{
  "nbformat": 4,
  "nbformat_minor": 0,
  "metadata": {
    "colab": {
      "name": "14_exception_handling.ipynb",
      "provenance": [],
      "collapsed_sections": []
    },
    "kernelspec": {
      "name": "python3",
      "display_name": "Python 3"
    },
    "language_info": {
      "name": "python"
    }
  },
  "cells": [
    {
      "cell_type": "markdown",
      "source": [
        "# Exception Handling\n",
        "\n",
        "Exercise Solution"
      ],
      "metadata": {
        "id": "PMcO3Eu--Dwa"
      }
    },
    {
      "cell_type": "markdown",
      "source": [
        "### 1. You have the following python code.\n",
        "\n",
        "```py\n",
        "\tlst = [int(x) for x in input().split()]\n",
        "\ti = int(input(“Enter Index: “)\n",
        "    print(lst[i])\n",
        "```\n",
        "Use Exception Handling to handle the exception which will occur in this program.\n"
      ],
      "metadata": {
        "id": "z59NTJJt-Il2"
      }
    },
    {
      "cell_type": "code",
      "execution_count": null,
      "metadata": {
        "colab": {
          "base_uri": "https://localhost:8080/"
        },
        "id": "3DyaJ1nV9CWO",
        "outputId": "946ad496-edee-4659-e8d7-ce0b085487b0"
      },
      "outputs": [
        {
          "name": "stdout",
          "output_type": "stream",
          "text": [
            "1 2 3 4 5 6 7 8\n"
          ]
        }
      ],
      "source": [
        "lst = [int(x) for x in input().split()]"
      ]
    },
    {
      "cell_type": "code",
      "source": [
        "i = int(input(\"Enter Index: \"))\n",
        "print(lst[i])"
      ],
      "metadata": {
        "colab": {
          "base_uri": "https://localhost:8080/",
          "height": 200
        },
        "id": "P-xsiYnm-4pu",
        "outputId": "17e718f5-c361-4077-c213-8f2751a33f03"
      },
      "execution_count": null,
      "outputs": [
        {
          "name": "stdout",
          "output_type": "stream",
          "text": [
            "Enter Index: 9\n"
          ]
        },
        {
          "output_type": "error",
          "ename": "IndexError",
          "evalue": "ignored",
          "traceback": [
            "\u001b[0;31m---------------------------------------------------------------------------\u001b[0m",
            "\u001b[0;31mIndexError\u001b[0m                                Traceback (most recent call last)",
            "\u001b[0;32m<ipython-input-4-e6eff8d3bfc9>\u001b[0m in \u001b[0;36m<module>\u001b[0;34m()\u001b[0m\n\u001b[1;32m      1\u001b[0m \u001b[0mi\u001b[0m \u001b[0;34m=\u001b[0m \u001b[0mint\u001b[0m\u001b[0;34m(\u001b[0m\u001b[0minput\u001b[0m\u001b[0;34m(\u001b[0m\u001b[0;34m\"Enter Index: \"\u001b[0m\u001b[0;34m)\u001b[0m\u001b[0;34m)\u001b[0m\u001b[0;34m\u001b[0m\u001b[0;34m\u001b[0m\u001b[0m\n\u001b[0;32m----> 2\u001b[0;31m \u001b[0mprint\u001b[0m\u001b[0;34m(\u001b[0m\u001b[0mlst\u001b[0m\u001b[0;34m[\u001b[0m\u001b[0mi\u001b[0m\u001b[0;34m]\u001b[0m\u001b[0;34m)\u001b[0m\u001b[0;34m\u001b[0m\u001b[0;34m\u001b[0m\u001b[0m\n\u001b[0m",
            "\u001b[0;31mIndexError\u001b[0m: list index out of range"
          ]
        }
      ]
    },
    {
      "cell_type": "markdown",
      "source": [
        "Using exception handling now\n"
      ],
      "metadata": {
        "id": "ojL9zRQI_nQe"
      }
    },
    {
      "cell_type": "code",
      "source": [
        "try:\n",
        "    i = int(input(\"Enter Index: \"))\n",
        "    print(lst[i])\n",
        "\n",
        "except:\n",
        "    print(\"Index is not valid\")"
      ],
      "metadata": {
        "colab": {
          "base_uri": "https://localhost:8080/"
        },
        "id": "g2mI6Ves_YeG",
        "outputId": "474ebf0d-1a90-402c-9a0d-522a9967020d"
      },
      "execution_count": null,
      "outputs": [
        {
          "output_type": "stream",
          "name": "stdout",
          "text": [
            "Enter Index: 10\n",
            "Index is not valid\n"
          ]
        }
      ]
    },
    {
      "cell_type": "markdown",
      "source": [
        "### 3. You have certain employee records as a list of dictionaries. The dictionary contains the following information.\n",
        "`Employee = {“id”: id, “first_name”: fname, “middle_name”: mname, “last_name”: lname}`\n",
        "\n",
        "You are using this code to print the full name of each employee:\n",
        "\n",
        "    for employee in employees:\n",
        "        full_name  = employee[‘first_name’] + employee[‘middle_name’] + employee[‘last_name’]\n",
        "\t    print(full_name)\n",
        "\n",
        "But some employees don’t have a middle_name, so the `middle_name` key will not be present in the dictionary. Use Exception handling to correctly print the full names of your employees.\n",
        "\n"
      ],
      "metadata": {
        "id": "7ktGLG15Axc4"
      }
    },
    {
      "cell_type": "code",
      "source": [
        "employees = [\n",
        "    {\"id\": 1, \"first_name\": \"Karan \", \"middle_name\": \"Rama \", \"last_name\": \"Reddy\"},\n",
        "    {\"id\": 2, \"first_name\": \"Alex \", \"last_name\": \"Gorge\"},\n",
        "    {\"id\": 3, \"first_name\": \"Alice \", \"middle_name\": \"M \", \"last_name\": \"Warner\"},\n",
        "]"
      ],
      "metadata": {
        "id": "VbPQiLiDAlUP"
      },
      "execution_count": null,
      "outputs": []
    },
    {
      "cell_type": "code",
      "source": [
        "for employee in employees:\n",
        "    full_name = employee['first_name'] + employee['middle_name'] + employee['last_name']\n",
        "    print(full_name)"
      ],
      "metadata": {
        "colab": {
          "base_uri": "https://localhost:8080/",
          "height": 217
        },
        "id": "r44URL6XCkUd",
        "outputId": "c6d7553d-ba2d-4079-c202-b387960e3f4b"
      },
      "execution_count": null,
      "outputs": [
        {
          "output_type": "stream",
          "name": "stdout",
          "text": [
            "Karan Rama Reddy\n"
          ]
        },
        {
          "output_type": "error",
          "ename": "KeyError",
          "evalue": "ignored",
          "traceback": [
            "\u001b[0;31m---------------------------------------------------------------------------\u001b[0m",
            "\u001b[0;31mKeyError\u001b[0m                                  Traceback (most recent call last)",
            "\u001b[0;32m<ipython-input-8-b2bd328b1add>\u001b[0m in \u001b[0;36m<module>\u001b[0;34m()\u001b[0m\n\u001b[1;32m      1\u001b[0m \u001b[0;32mfor\u001b[0m \u001b[0memployee\u001b[0m \u001b[0;32min\u001b[0m \u001b[0memployees\u001b[0m\u001b[0;34m:\u001b[0m\u001b[0;34m\u001b[0m\u001b[0;34m\u001b[0m\u001b[0m\n\u001b[0;32m----> 2\u001b[0;31m     \u001b[0mfull_name\u001b[0m \u001b[0;34m=\u001b[0m \u001b[0memployee\u001b[0m\u001b[0;34m[\u001b[0m\u001b[0;34m'first_name'\u001b[0m\u001b[0;34m]\u001b[0m \u001b[0;34m+\u001b[0m \u001b[0memployee\u001b[0m\u001b[0;34m[\u001b[0m\u001b[0;34m'middle_name'\u001b[0m\u001b[0;34m]\u001b[0m \u001b[0;34m+\u001b[0m \u001b[0memployee\u001b[0m\u001b[0;34m[\u001b[0m\u001b[0;34m'last_name'\u001b[0m\u001b[0;34m]\u001b[0m\u001b[0;34m\u001b[0m\u001b[0;34m\u001b[0m\u001b[0m\n\u001b[0m\u001b[1;32m      3\u001b[0m     \u001b[0mprint\u001b[0m\u001b[0;34m(\u001b[0m\u001b[0mfull_name\u001b[0m\u001b[0;34m)\u001b[0m\u001b[0;34m\u001b[0m\u001b[0;34m\u001b[0m\u001b[0m\n",
            "\u001b[0;31mKeyError\u001b[0m: 'middle_name'"
          ]
        }
      ]
    },
    {
      "cell_type": "markdown",
      "source": [
        "Using Exception handling"
      ],
      "metadata": {
        "id": "C8_UevvVDCTH"
      }
    },
    {
      "cell_type": "code",
      "source": [
        "for employee in employees:\n",
        "    try:\n",
        "        full_name = employee['first_name'] + employee['middle_name'] + employee['last_name']\n",
        "    except KeyError:\n",
        "        full_name = employee['first_name'] + employee['last_name']\n",
        "    finally:\n",
        "        print(full_name)\n",
        "\n"
      ],
      "metadata": {
        "colab": {
          "base_uri": "https://localhost:8080/"
        },
        "id": "vJHSmza3C_6I",
        "outputId": "cd379ac2-12de-472b-9f12-4177030ad11d"
      },
      "execution_count": null,
      "outputs": [
        {
          "output_type": "stream",
          "name": "stdout",
          "text": [
            "Karan Rama Reddy\n",
            "Alex Gorge\n",
            "Alice M Warner\n"
          ]
        }
      ]
    },
    {
      "cell_type": "code",
      "source": [
        ""
      ],
      "metadata": {
        "id": "E65yW0GXDbja"
      },
      "execution_count": null,
      "outputs": []
    },
    {
      "cell_type": "markdown",
      "source": [
        "Thank you,\n",
        "\n",
        "Happy Learning!"
      ],
      "metadata": {
        "id": "s0Crz-vQDhEu"
      }
    },
    {
      "cell_type": "code",
      "source": [
        ""
      ],
      "metadata": {
        "id": "cPzKE_AhDklM"
      },
      "execution_count": null,
      "outputs": []
    }
  ]
}