{
  "nbformat": 4,
  "nbformat_minor": 0,
  "metadata": {
    "colab": {
      "name": "13_class_inheritance.ipynb",
      "provenance": [],
      "collapsed_sections": []
    },
    "kernelspec": {
      "name": "python3",
      "display_name": "Python 3"
    },
    "language_info": {
      "name": "python"
    }
  },
  "cells": [
    {
      "cell_type": "markdown",
      "source": [
        "# Inheritence\n",
        "\n",
        "Exercise Solution"
      ],
      "metadata": {
        "id": "UwVxzU19DStn"
      }
    },
    {
      "cell_type": "markdown",
      "source": [
        "### 1. Create inheritance using MobilePhone as base class and Apple & Samsung as child class\n",
        "The base class should have properties:\n",
        "- ScreenType = Touch Screen\n",
        "- NetworkType = 4G/5G\n",
        "- DualSim = True or False\n",
        "- FrontCamera = (5MP/8MP/12MP/16MP)\n",
        "- rearCamera = (8MP/12MP/16MP/32MP/48MP)\n",
        "- RAM = (2GB/3GB/4GB)\n",
        "- Storage = (16GB/32GB/64GB)\n",
        "\n",
        "Create basic mobile phone functionalities in the classes like:\n",
        "- make_call, recieve_call, take_a_picture, etc.\n",
        "- Use super() constructor for calling parent class’s constructor\n",
        "- Make some objects of Apple class with different properties\n",
        "- Make some objects of Samsung class with different properties\n"
      ],
      "metadata": {
        "id": "DMQFbN8RDWJZ"
      }
    },
    {
      "cell_type": "code",
      "execution_count": null,
      "metadata": {
        "id": "AAul8zeeDQAq"
      },
      "outputs": [],
      "source": [
        "# Creating the base class\n",
        "\n",
        "class MobilePhone:\n",
        "\n",
        "    def __init__(self, screenType, networkType, dualSim, frontCamera, camera, RAM, storage):\n",
        "        self.screenType = screenType\n",
        "        self.networkType = networkType\n",
        "        self.dualSim = dualSim\n",
        "        self.frontCamera = frontCamera\n",
        "        self.camera = camera\n",
        "        self.RAM = RAM\n",
        "        self.storage = storage\n",
        "\n",
        "    def make_call(self):\n",
        "        pass\n",
        "\n",
        "    def recieve_call(self):\n",
        "        pass\n",
        "\n",
        "    def take_a_picture(self):\n",
        "        pass\n",
        "\n",
        "     "
      ]
    },
    {
      "cell_type": "code",
      "source": [
        "# Let's create Apple Class\n",
        "class Apple(MobilePhone):\n",
        "\n",
        "    def __init__(self, productName, networkType, RAM, storage):\n",
        "        self.productName = productName\n",
        "        super().__init__(screenType='Touch Screen',\n",
        "                         camera=\"12MP\",\n",
        "                         frontCamera=\"8MP\",\n",
        "                         dualSim=False,\n",
        "                         networkType=networkType,\n",
        "                         RAM=RAM,\n",
        "                         storage=storage)\n",
        "        \n",
        "    def make_call(self):\n",
        "        print(f\"Making a call from {self.productName} Apple mobile phone.\")\n",
        "\n",
        "    def recieve_call(self):\n",
        "        print(f\"Recieving a call on {self.productName} Apple mobile phone.\")\n",
        "\n",
        "    def take_a_picture(self):\n",
        "        return f\"Taking Picture on {self.productName} with {self.camera} camera\"\n",
        "\n",
        "    def get_info(self):\n",
        "        return f\"\"\"Product Name: {self.productName}\n",
        "        Camera: {self.camera}\n",
        "        Network Type: {self.networkType}\n",
        "        ...\n",
        "        \"\"\"\n",
        "        # etc\n",
        "\n",
        "\n",
        "    def __str__(self) -> str:\n",
        "        return f\"Apple({self.productName}, {self.storage}, ...)\""
      ],
      "metadata": {
        "id": "0Rfaa9LxDZqC"
      },
      "execution_count": null,
      "outputs": []
    },
    {
      "cell_type": "code",
      "source": [
        "# creating samsung Class\n",
        "class Samsung(MobilePhone):\n",
        "\n",
        "    def __init__(self, productName, networkType, dualSim, frontCamera, camera, RAM, storage):\n",
        "        self.productName = productName\n",
        "        super().__init__(screenType='Touch Screen',\n",
        "                         camera=camera,\n",
        "                         frontCamera=frontCamera,\n",
        "                         dualSim=dualSim,\n",
        "                         networkType=networkType,\n",
        "                         RAM=RAM,\n",
        "                         storage=storage)\n",
        "        \n",
        "    def make_call(self):\n",
        "        print(f\"Making a call from {self.productName} Samsung mobile phone.\")\n",
        "\n",
        "    def recieve_call(self):\n",
        "        print(f\"Recieving a call on {self.productName} Samsung mobile phone.\")\n",
        "\n",
        "    def take_a_picture(self):\n",
        "        return f\"Taking Picture on {self.productName} with {self.camera} camera\"\n",
        "\n",
        "    def get_info(self):\n",
        "        return f\"\"\"Product Name: {self.productName}\n",
        "        Camera: {self.camera}\n",
        "        Network Type: {self.networkType}\n",
        "        ...\n",
        "        \"\"\"\n",
        "        # etc\n",
        "\n",
        "\n",
        "    def __str__(self) -> str:\n",
        "        return f\"Samsung({self.productName}, {self.storage}, ...)\""
      ],
      "metadata": {
        "id": "n5RGABv9Dbw-"
      },
      "execution_count": null,
      "outputs": []
    },
    {
      "cell_type": "markdown",
      "source": [
        "Creating some objects"
      ],
      "metadata": {
        "id": "o6DAHer6DibP"
      }
    },
    {
      "cell_type": "code",
      "source": [
        "# apple phones\n",
        "\n",
        "apple1 = Apple(\"Iphone6\", \"4G\", \"4GB\", \"64GB\")\n",
        "apple2 = Apple(\"Iphone8\", \"5G\", \"6GB\", \"128GB\")"
      ],
      "metadata": {
        "id": "MhH7-EUHDe8P"
      },
      "execution_count": null,
      "outputs": []
    },
    {
      "cell_type": "code",
      "source": [
        "# Samsung Phones\n",
        "\n",
        "samsung1 = Samsung(\"Samsung1\", \"4G\", True, \"16MP\", \"32MP\", \"4GB\", \"64GB\")\n",
        "samsung2 = Samsung(\"Samsung2\", \"3G\", True, \"8MP\", \"16MP\", \"3GB\", \"16GB\")"
      ],
      "metadata": {
        "id": "cWtaEo1sDk8z"
      },
      "execution_count": null,
      "outputs": []
    },
    {
      "cell_type": "code",
      "source": [
        "print(apple1)"
      ],
      "metadata": {
        "colab": {
          "base_uri": "https://localhost:8080/"
        },
        "id": "KWlEtH6vDnDv",
        "outputId": "63839b7e-ee14-4de1-e482-8798dd620a56"
      },
      "execution_count": null,
      "outputs": [
        {
          "output_type": "stream",
          "name": "stdout",
          "text": [
            "Apple(Iphone6, 64GB, ...)\n"
          ]
        }
      ]
    },
    {
      "cell_type": "code",
      "source": [
        "apple2.make_call()"
      ],
      "metadata": {
        "colab": {
          "base_uri": "https://localhost:8080/"
        },
        "id": "z3EdbtG6DpYF",
        "outputId": "3d89691a-0050-45ac-c9d1-d1e40962c992"
      },
      "execution_count": null,
      "outputs": [
        {
          "output_type": "stream",
          "name": "stdout",
          "text": [
            "Making a call from Iphone8 Apple mobile phone.\n"
          ]
        }
      ]
    },
    {
      "cell_type": "code",
      "source": [
        "samsung1.recieve_call()"
      ],
      "metadata": {
        "colab": {
          "base_uri": "https://localhost:8080/"
        },
        "id": "EGiOoHhkDreh",
        "outputId": "c80577fa-d044-4464-f4d2-1976c4b0bbb0"
      },
      "execution_count": null,
      "outputs": [
        {
          "output_type": "stream",
          "name": "stdout",
          "text": [
            "Recieving a call on Samsung1 Samsung mobile phone.\n"
          ]
        }
      ]
    },
    {
      "cell_type": "code",
      "source": [
        "apple1.take_a_picture()"
      ],
      "metadata": {
        "colab": {
          "base_uri": "https://localhost:8080/",
          "height": 35
        },
        "id": "f58rcf-yDtdV",
        "outputId": "ae5cd612-7856-4b37-fcf0-1e374c1c27c7"
      },
      "execution_count": null,
      "outputs": [
        {
          "output_type": "execute_result",
          "data": {
            "text/plain": [
              "'Taking Picture on Iphone6 with 12MP camera'"
            ],
            "application/vnd.google.colaboratory.intrinsic+json": {
              "type": "string"
            }
          },
          "metadata": {},
          "execution_count": 9
        }
      ]
    },
    {
      "cell_type": "code",
      "source": [
        "print(samsung2.get_info())"
      ],
      "metadata": {
        "colab": {
          "base_uri": "https://localhost:8080/"
        },
        "id": "YEcCoR39Dwrb",
        "outputId": "f9172c7d-9fa8-499b-f8e0-7d79a5a1b2e1"
      },
      "execution_count": null,
      "outputs": [
        {
          "output_type": "stream",
          "name": "stdout",
          "text": [
            "Product Name: Samsung2\n",
            "        Camera: 16MP\n",
            "        Network Type: 3G\n",
            "        ...\n",
            "        \n"
          ]
        }
      ]
    },
    {
      "cell_type": "markdown",
      "source": [
        "Thank You,\n",
        "\n",
        "Happy Coding!"
      ],
      "metadata": {
        "id": "Uv4mXXeED2d_"
      }
    },
    {
      "cell_type": "code",
      "source": [
        ""
      ],
      "metadata": {
        "id": "4mlqK-NDDzjQ"
      },
      "execution_count": null,
      "outputs": []
    }
  ]
}