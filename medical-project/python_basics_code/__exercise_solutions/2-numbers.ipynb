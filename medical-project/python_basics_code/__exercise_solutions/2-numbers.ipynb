{
  "nbformat": 4,
  "nbformat_minor": 0,
  "metadata": {
    "colab": {
      "name": "2_Numbers.ipynb",
      "provenance": [],
      "collapsed_sections": []
    },
    "kernelspec": {
      "name": "python3",
      "display_name": "Python 3"
    },
    "language_info": {
      "name": "python"
    }
  },
  "cells": [
    {
      "cell_type": "markdown",
      "source": [
        "# 2 Numbers\n",
        "\n",
        "Solution of excercise 2"
      ],
      "metadata": {
        "id": "uEZKj1_buw2E"
      }
    },
    {
      "cell_type": "markdown",
      "source": [
        "1. Remember the format() function we have used in the last video?? Now pass 145 and ‘o’ in the function and see what it returned. Try to find out which representation it is.\n"
      ],
      "metadata": {
        "id": "i0acUhwdu3_c"
      }
    },
    {
      "cell_type": "code",
      "execution_count": null,
      "metadata": {
        "colab": {
          "base_uri": "https://localhost:8080/",
          "height": 35
        },
        "id": "87KwqjR6urq0",
        "outputId": "6bd0ea3d-4ff5-4fa1-f95a-dabb20f2f606"
      },
      "outputs": [
        {
          "output_type": "execute_result",
          "data": {
            "application/vnd.google.colaboratory.intrinsic+json": {
              "type": "string"
            },
            "text/plain": [
              "'221'"
            ]
          },
          "metadata": {},
          "execution_count": 1
        }
      ],
      "source": [
        "# format function to formate the number\n",
        "format(145, 'o')"
      ]
    },
    {
      "cell_type": "markdown",
      "source": [
        "In the video we did use the 'b' at the second place which stand for `binary representation` of the number.\n",
        "\n",
        "In this eample 'o' stands for `octal representation` of the number.\n",
        "\n",
        "'221' is octal representation of 145. Now go to Google and search octal form of 145 & check if it is correct or not."
      ],
      "metadata": {
        "id": "PQP7Zam7vK3s"
      }
    },
    {
      "cell_type": "markdown",
      "source": [
        "2. There is a circular pond in a village. This pond has a radius of 84meter. Can you find the area of the pond? (Bonus: If there is exactly 1.4 liter of water in a square meter, what is the total amount of the water in the pond?)\n",
        "\n",
        "    Hint:   \n",
        "`Circle Area = πr2`\n"
      ],
      "metadata": {
        "id": "N9KmgUDCwDpO"
      }
    },
    {
      "cell_type": "code",
      "source": [
        "# circular pond\n",
        "radius = 84\n"
      ],
      "metadata": {
        "id": "rxR5moTgvFQC"
      },
      "execution_count": null,
      "outputs": []
    },
    {
      "cell_type": "markdown",
      "source": [
        "As we know the formula for calculating the area of circle we can directly apply it in python\n",
        "\n",
        "NOTE: In python ** is used for power operator\n"
      ],
      "metadata": {
        "id": "g5SNZD84wif7"
      }
    },
    {
      "cell_type": "code",
      "source": [
        "pond_area = 3.14 * radius ** 2\n"
      ],
      "metadata": {
        "id": "6ouJwO1fwg_-"
      },
      "execution_count": null,
      "outputs": []
    },
    {
      "cell_type": "markdown",
      "source": [
        "We know that value of pi(π) is 22/7 which is equal to 3.14"
      ],
      "metadata": {
        "id": "2n4dJhrvxBOJ"
      }
    },
    {
      "cell_type": "code",
      "source": [
        "print(pond_area)"
      ],
      "metadata": {
        "colab": {
          "base_uri": "https://localhost:8080/"
        },
        "id": "ZbyA3ZNHw_y_",
        "outputId": "aad273ac-68de-4a4a-8037-66381323daf4"
      },
      "execution_count": null,
      "outputs": [
        {
          "output_type": "stream",
          "name": "stdout",
          "text": [
            "22155.84\n"
          ]
        }
      ]
    },
    {
      "cell_type": "markdown",
      "source": [
        "**BONUS**\n",
        "\n",
        "Because there is exactly 1.4 liter of water in 1 square meter. And we know that the total area of pond is `22155.84` square meter.\n",
        "\n",
        "We can get the total amount of water if we multiply the given amount wih given area. "
      ],
      "metadata": {
        "id": "BWx_bcibxUt2"
      }
    },
    {
      "cell_type": "code",
      "source": [
        "per_sqt_meter_water = 1.4"
      ],
      "metadata": {
        "id": "2x9emuvExQlg"
      },
      "execution_count": null,
      "outputs": []
    },
    {
      "cell_type": "code",
      "source": [
        "total_water = pond_area * per_sqt_meter_water"
      ],
      "metadata": {
        "id": "pLYqyVrbx7MP"
      },
      "execution_count": null,
      "outputs": []
    },
    {
      "cell_type": "code",
      "source": [
        "print(total_water)"
      ],
      "metadata": {
        "colab": {
          "base_uri": "https://localhost:8080/"
        },
        "id": "uXvh_4styAx0",
        "outputId": "c53f4813-a716-475d-b2e9-38c2f2d8c232"
      },
      "execution_count": null,
      "outputs": [
        {
          "output_type": "stream",
          "name": "stdout",
          "text": [
            "31018.176\n"
          ]
        }
      ]
    },
    {
      "cell_type": "markdown",
      "source": [
        "There is total `31018.176` liter water in the pond.\n",
        "\n",
        "See, Programming is really fun you just calculated the total water in your village's pond. 😂"
      ],
      "metadata": {
        "id": "RoLaUW48yDtn"
      }
    },
    {
      "cell_type": "markdown",
      "source": [
        "3. \n",
        "If you cross a 490-meter-long street in 7 minutes, then what is your speed in meter per seconds. Print your answer without any decimal point in it.\n",
        "        Hint:\n",
        "        Speed = Distance / Time\n"
      ],
      "metadata": {
        "id": "wWC4QNX2ybca"
      }
    },
    {
      "cell_type": "code",
      "source": [
        "street_lenght = 490\n",
        "time = 7 * 60"
      ],
      "metadata": {
        "id": "oJjPPaD3yCI0"
      },
      "execution_count": null,
      "outputs": []
    },
    {
      "cell_type": "markdown",
      "source": [
        "Because Time is given in minutes ie. `7 minurtes` and we have to calculate the speed in meter pre seconds. so we need to convert the time into seconds.\n",
        "\n",
        "We know there are 60 seconds in one minute. we can calculate the total seconds in 7 minutes by simply muliply it with 60\n",
        "\n",
        "Let's see how many seconds are in 7 minutes"
      ],
      "metadata": {
        "id": "QQElZjNzyvsV"
      }
    },
    {
      "cell_type": "code",
      "source": [
        "time"
      ],
      "metadata": {
        "colab": {
          "base_uri": "https://localhost:8080/"
        },
        "id": "Lwp96pP3yuMX",
        "outputId": "70393a72-8d15-4d8d-f58e-44db8c66a69c"
      },
      "execution_count": null,
      "outputs": [
        {
          "output_type": "execute_result",
          "data": {
            "text/plain": [
              "420"
            ]
          },
          "metadata": {},
          "execution_count": 9
        }
      ]
    },
    {
      "cell_type": "markdown",
      "source": [
        "there are total 420 seconds"
      ],
      "metadata": {
        "id": "PG0OqbrVzS8d"
      }
    },
    {
      "cell_type": "code",
      "source": [
        "speed = street_lenght / time"
      ],
      "metadata": {
        "id": "4BGtAd-EzRMe"
      },
      "execution_count": null,
      "outputs": []
    },
    {
      "cell_type": "markdown",
      "source": [
        "Applying the formula to calculate the speed"
      ],
      "metadata": {
        "id": "LxS0BQRezgef"
      }
    },
    {
      "cell_type": "code",
      "source": [
        "print(speed)"
      ],
      "metadata": {
        "colab": {
          "base_uri": "https://localhost:8080/"
        },
        "id": "aEv7489JzfSc",
        "outputId": "082aea44-ea1c-48b9-fa15-8c90db67e7d4"
      },
      "execution_count": null,
      "outputs": [
        {
          "output_type": "stream",
          "name": "stdout",
          "text": [
            "1.1666666666666667\n"
          ]
        }
      ]
    },
    {
      "cell_type": "markdown",
      "source": [
        "The speed is 1.6666... meter per second\n",
        "\n",
        "A lot of values after decimal, right?\n",
        "\n",
        "let's print it without decimal"
      ],
      "metadata": {
        "id": "DaDKT21Qzo6d"
      }
    },
    {
      "cell_type": "code",
      "source": [
        "print(round(speed))"
      ],
      "metadata": {
        "colab": {
          "base_uri": "https://localhost:8080/"
        },
        "id": "yr6Yb_Rzzldt",
        "outputId": "f5359120-f782-415c-9fbe-c6b9abf4e29d"
      },
      "execution_count": null,
      "outputs": [
        {
          "output_type": "stream",
          "name": "stdout",
          "text": [
            "1\n"
          ]
        }
      ]
    },
    {
      "cell_type": "code",
      "source": [
        ""
      ],
      "metadata": {
        "id": "MGkL8Tss0GZo"
      },
      "execution_count": null,
      "outputs": []
    },
    {
      "cell_type": "markdown",
      "source": [
        "Thank you,\n",
        "\n",
        "Happy Coding!"
      ],
      "metadata": {
        "id": "cI2DT1Ry0Iqf"
      }
    },
    {
      "cell_type": "code",
      "source": [
        ""
      ],
      "metadata": {
        "id": "LJOhDYCK0L6A"
      },
      "execution_count": null,
      "outputs": []
    }
  ]
}