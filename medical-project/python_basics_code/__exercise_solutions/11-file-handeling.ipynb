{
  "nbformat": 4,
  "nbformat_minor": 0,
  "metadata": {
    "colab": {
      "name": "11_file_handeling.ipynb",
      "provenance": [],
      "collapsed_sections": []
    },
    "kernelspec": {
      "name": "python3",
      "display_name": "Python 3"
    },
    "language_info": {
      "name": "python"
    }
  },
  "cells": [
    {
      "cell_type": "markdown",
      "source": [
        "# File Handling Exercise\n",
        "\n",
        "Solution"
      ],
      "metadata": {
        "id": "iE5ttd3Qh3ZM"
      }
    },
    {
      "cell_type": "markdown",
      "source": [
        "### 1. student_marks.csv contains the marks and other details for some students. Write a python program to:\n",
        "- Open the file in read mode\n",
        "- Create dictionary from the given data\n",
        "- Add a new field to the dictionary `total_marks` and store total marks of the students.\n",
        "- Add new field to the dictionary `Average` and store average marks of the students\n",
        "- Sort the data according to the average marks of the students\n",
        "- Create a new file and write this information to the new file\n",
        "\t(https://www.kaggle.com/arunkumar413/student-marks)"
      ],
      "metadata": {
        "id": "3NAQCYVOiA0q"
      }
    },
    {
      "cell_type": "code",
      "execution_count": null,
      "metadata": {
        "id": "tmmX25fjhy4U"
      },
      "outputs": [],
      "source": [
        "# downloading and saving the file\n",
        "# TODO: use the givn link to download the file\n",
        "# TODO: Save the file in the current directory after downloading"
      ]
    },
    {
      "cell_type": "code",
      "source": [
        "# openning the file in read mode\n",
        "f = open('student_marks.csv', 'r')"
      ],
      "metadata": {
        "id": "F-LG55PmjIqK"
      },
      "execution_count": null,
      "outputs": []
    },
    {
      "cell_type": "code",
      "source": [
        "f.read()\n"
      ],
      "metadata": {
        "colab": {
          "base_uri": "https://localhost:8080/",
          "height": 70
        },
        "id": "d8jfJcaR3fZ6",
        "outputId": "a47b639b-525f-4d9a-ac6a-1d0a35803357"
      },
      "execution_count": null,
      "outputs": [
        {
          "output_type": "execute_result",
          "data": {
            "application/vnd.google.colaboratory.intrinsic+json": {
              "type": "string"
            },
            "text/plain": [
              "',Gender,DOB,Maths,Physics,Chemistry,English,Biology,Economics,History,Civics\\nJohn,M,05/04/1988,55,45,56,87,21,52,89,65\\nSuresh,M,4/5/1987,75,55,,64,90,61,58,2\\nRamesh,M,25/5/1989,25,54,89,76,95,87,56,74\\nJessica,F,12/8/1990,78,55,86,63,54,89,75,45\\nJennifer,F,2/9/1989,58,96,78,46,96,77,83,53'"
            ]
          },
          "metadata": {},
          "execution_count": 20
        }
      ]
    },
    {
      "cell_type": "code",
      "source": [
        "# creating dictionary\n",
        "f.seek(0)  #goto the start again\n",
        "d = {}\n",
        "keys = f.readline()\n",
        "keys"
      ],
      "metadata": {
        "colab": {
          "base_uri": "https://localhost:8080/",
          "height": 35
        },
        "id": "JUGGakOk3lny",
        "outputId": "483cecc8-0e8c-4338-a943-01ef83dc8610"
      },
      "execution_count": null,
      "outputs": [
        {
          "output_type": "execute_result",
          "data": {
            "application/vnd.google.colaboratory.intrinsic+json": {
              "type": "string"
            },
            "text/plain": [
              "',Gender,DOB,Maths,Physics,Chemistry,English,Biology,Economics,History,Civics\\n'"
            ]
          },
          "metadata": {},
          "execution_count": 25
        }
      ]
    },
    {
      "cell_type": "code",
      "source": [
        "keys = keys.split(',')\n",
        "keys"
      ],
      "metadata": {
        "colab": {
          "base_uri": "https://localhost:8080/"
        },
        "id": "yYO04D7U32cW",
        "outputId": "a665d3c6-8d9c-4162-b5a1-09b0873fd38d"
      },
      "execution_count": null,
      "outputs": [
        {
          "output_type": "execute_result",
          "data": {
            "text/plain": [
              "['',\n",
              " 'Gender',\n",
              " 'DOB',\n",
              " 'Maths',\n",
              " 'Physics',\n",
              " 'Chemistry',\n",
              " 'English',\n",
              " 'Biology',\n",
              " 'Economics',\n",
              " 'History',\n",
              " 'Civics\\n']"
            ]
          },
          "metadata": {},
          "execution_count": 26
        }
      ]
    },
    {
      "cell_type": "code",
      "source": [
        "# intializing the dictionary\n",
        "for key in keys:\n",
        "    d[key] = []\n",
        "\n",
        "print(d)"
      ],
      "metadata": {
        "colab": {
          "base_uri": "https://localhost:8080/"
        },
        "id": "aaxnoYQL4Uyz",
        "outputId": "e89a9c0b-1be4-444e-fb3a-b6bed25e0eec"
      },
      "execution_count": null,
      "outputs": [
        {
          "output_type": "stream",
          "name": "stdout",
          "text": [
            "{'': [], 'Gender': [], 'DOB': [], 'Maths': [], 'Physics': [], 'Chemistry': [], 'English': [], 'Biology': [], 'Economics': [], 'History': [], 'Civics\\n': []}\n"
          ]
        }
      ]
    },
    {
      "cell_type": "code",
      "source": [
        "# Adding data to the dictionary\n",
        "for line in f.readlines():\n",
        "    data = line.split(',')\n",
        "    j = 0\n",
        "    for i in d:\n",
        "        d[i].append(data[j])\n",
        "        j += 1\n",
        "\n",
        "print(d)"
      ],
      "metadata": {
        "colab": {
          "base_uri": "https://localhost:8080/"
        },
        "id": "Mu62lr4l4zN3",
        "outputId": "702dff7e-d6d8-4c76-d3bb-44c30b78da17"
      },
      "execution_count": null,
      "outputs": [
        {
          "output_type": "stream",
          "name": "stdout",
          "text": [
            "{'': ['John', 'Suresh', 'Ramesh', 'Jessica', 'Jennifer'], 'Gender': ['M', 'M', 'M', 'F', 'F'], 'DOB': ['05/04/1988', '4/5/1987', '25/5/1989', '12/8/1990', '2/9/1989'], 'Maths': ['55', '75', '25', '78', '58'], 'Physics': ['45', '55', '54', '55', '96'], 'Chemistry': ['56', '', '89', '86', '78'], 'English': ['87', '64', '76', '63', '46'], 'Biology': ['21', '90', '95', '54', '96'], 'Economics': ['52', '61', '87', '89', '77'], 'History': ['89', '58', '56', '75', '83'], 'Civics\\n': ['65\\n', '2\\n', '74\\n', '45\\n', '53']}\n"
          ]
        }
      ]
    },
    {
      "cell_type": "code",
      "source": [
        "import pprint\n",
        "pprint.pprint(d)"
      ],
      "metadata": {
        "colab": {
          "base_uri": "https://localhost:8080/"
        },
        "id": "cdxhn50W5RHq",
        "outputId": "663bb99b-07dd-4254-ad3a-cf22c7e8f4aa"
      },
      "execution_count": null,
      "outputs": [
        {
          "output_type": "stream",
          "name": "stdout",
          "text": [
            "{'': ['John', 'Suresh', 'Ramesh', 'Jessica', 'Jennifer'],\n",
            " 'Biology': ['21', '90', '95', '54', '96'],\n",
            " 'Chemistry': ['56', '', '89', '86', '78'],\n",
            " 'Civics\\n': ['65\\n', '2\\n', '74\\n', '45\\n', '53'],\n",
            " 'DOB': ['05/04/1988', '4/5/1987', '25/5/1989', '12/8/1990', '2/9/1989'],\n",
            " 'Economics': ['52', '61', '87', '89', '77'],\n",
            " 'English': ['87', '64', '76', '63', '46'],\n",
            " 'Gender': ['M', 'M', 'M', 'F', 'F'],\n",
            " 'History': ['89', '58', '56', '75', '83'],\n",
            " 'Maths': ['55', '75', '25', '78', '58'],\n",
            " 'Physics': ['45', '55', '54', '55', '96']}\n"
          ]
        }
      ]
    },
    {
      "cell_type": "code",
      "source": [
        "d.values()"
      ],
      "metadata": {
        "colab": {
          "base_uri": "https://localhost:8080/"
        },
        "id": "cePwcNe4-AQW",
        "outputId": "0be76e61-a8ea-4b1d-ff9b-76520d968a5c"
      },
      "execution_count": null,
      "outputs": [
        {
          "output_type": "execute_result",
          "data": {
            "text/plain": [
              "dict_values([['John', 'Suresh', 'Ramesh', 'Jessica', 'Jennifer'], ['M', 'M', 'M', 'F', 'F'], ['05/04/1988', '4/5/1987', '25/5/1989', '12/8/1990', '2/9/1989'], ['55', '75', '25', '78', '58'], ['45', '55', '54', '55', '96'], ['56', '', '89', '86', '78'], ['87', '64', '76', '63', '46'], ['21', '90', '95', '54', '96'], ['52', '61', '87', '89', '77'], ['89', '58', '56', '75', '83'], ['65\\n', '2\\n', '74\\n', '45\\n', '53'], ['John', 'M', '25/5/1989', '78', '96']])"
            ]
          },
          "metadata": {},
          "execution_count": 33
        }
      ]
    },
    {
      "cell_type": "code",
      "source": [
        "# Calculating the total marks\n",
        "d['Total Marks'] = [0]*5\n",
        "for i in range(5):\n",
        "    for key in d:\n",
        "        try:\n",
        "            d['Total Marks'][i] += int(d[key][i])\n",
        "        except:\n",
        "            pass\n",
        "print(d['Total Marks'])\n",
        "    "
      ],
      "metadata": {
        "colab": {
          "base_uri": "https://localhost:8080/"
        },
        "id": "h4JxgeRG5rLB",
        "outputId": "07b5bd39-2eb9-40e0-d1fb-df1ee1a66e31"
      },
      "execution_count": null,
      "outputs": [
        {
          "output_type": "stream",
          "name": "stdout",
          "text": [
            "[940, 810, 1112, 1090, 1174]\n"
          ]
        }
      ]
    },
    {
      "cell_type": "code",
      "source": [
        ""
      ],
      "metadata": {
        "id": "LoMJvRNY817B"
      },
      "execution_count": null,
      "outputs": []
    }
  ]
}