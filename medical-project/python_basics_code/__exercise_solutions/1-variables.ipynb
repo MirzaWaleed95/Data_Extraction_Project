{
  "nbformat": 4,
  "nbformat_minor": 0,
  "metadata": {
    "colab": {
      "name": "1_Variables.ipynb",
      "provenance": [],
      "collapsed_sections": []
    },
    "kernelspec": {
      "name": "python3",
      "display_name": "Python 3"
    },
    "language_info": {
      "name": "python"
    }
  },
  "cells": [
    {
      "cell_type": "markdown",
      "source": [
        "# 1 Variable\n",
        "\n",
        "Excercise solution for variables"
      ],
      "metadata": {
        "id": "QAGsAcQXOm1c"
      }
    },
    {
      "cell_type": "markdown",
      "source": [
        "1. Create a variable named pi and store the value 22/7 in it. Now check the data type of this variable.\n",
        "2. Create a variable called for and assign it a value 4. See what happens and find out the reason behind the behavior that you see.\n",
        "3. Store the principal amount, rate of interest and time in different variables and then calculate the Simple Interest for 3 years \n"
      ],
      "metadata": {
        "id": "Z9V13S9-O5hf"
      }
    },
    {
      "cell_type": "code",
      "execution_count": null,
      "metadata": {
        "id": "5DbTb-5gOecw"
      },
      "outputs": [],
      "source": [
        "# creating variable named pi\n",
        "pi = 22/7"
      ]
    },
    {
      "cell_type": "code",
      "source": [
        "print(pi)"
      ],
      "metadata": {
        "colab": {
          "base_uri": "https://localhost:8080/"
        },
        "id": "lhYIkj4WPNA_",
        "outputId": "714b44ae-e309-45d2-c29d-6617cbecc508"
      },
      "execution_count": null,
      "outputs": [
        {
          "output_type": "stream",
          "name": "stdout",
          "text": [
            "3.142857142857143\n"
          ]
        }
      ]
    },
    {
      "cell_type": "code",
      "source": [
        "# checking the datatype\n",
        "type(pi)"
      ],
      "metadata": {
        "colab": {
          "base_uri": "https://localhost:8080/"
        },
        "id": "VzxH3ly_POxS",
        "outputId": "e5723459-a55a-4e24-93fc-5afe1a99ca60"
      },
      "execution_count": null,
      "outputs": [
        {
          "output_type": "execute_result",
          "data": {
            "text/plain": [
              "float"
            ]
          },
          "metadata": {},
          "execution_count": 3
        }
      ]
    },
    {
      "cell_type": "code",
      "source": [
        "# 2. creating for variable\n",
        "for = 4"
      ],
      "metadata": {
        "colab": {
          "base_uri": "https://localhost:8080/",
          "height": 130
        },
        "id": "qHskWLeFPUSa",
        "outputId": "45d183f1-a28a-4e80-aee3-90d984dbbfae"
      },
      "execution_count": null,
      "outputs": [
        {
          "output_type": "error",
          "ename": "SyntaxError",
          "evalue": "ignored",
          "traceback": [
            "\u001b[0;36m  File \u001b[0;32m\"<ipython-input-4-585a7d10ca85>\"\u001b[0;36m, line \u001b[0;32m2\u001b[0m\n\u001b[0;31m    for = 4\u001b[0m\n\u001b[0m        ^\u001b[0m\n\u001b[0;31mSyntaxError\u001b[0m\u001b[0;31m:\u001b[0m invalid syntax\n"
          ]
        }
      ]
    },
    {
      "cell_type": "markdown",
      "source": [
        "SyntaxError occured becuase for is a reserved keyword in python. We cannot use reserved keywords for making variable names.\n",
        "\n",
        "Solution for this is:"
      ],
      "metadata": {
        "id": "KY5wA7VfPpV2"
      }
    },
    {
      "cell_type": "code",
      "source": [
        "for_ = 4\n",
        "print(for_)"
      ],
      "metadata": {
        "colab": {
          "base_uri": "https://localhost:8080/"
        },
        "id": "2QF8B3pgPkah",
        "outputId": "04606879-69d4-4986-cb9b-1c0b33493dc1"
      },
      "execution_count": null,
      "outputs": [
        {
          "output_type": "stream",
          "name": "stdout",
          "text": [
            "4\n"
          ]
        }
      ]
    },
    {
      "cell_type": "markdown",
      "source": [
        "It did work this time"
      ],
      "metadata": {
        "id": "VUcb1nMDQGzw"
      }
    },
    {
      "cell_type": "code",
      "source": [
        "# 3. Calculate Simple Interest\n",
        "principle_amount = 567.00\n",
        "rate_of_interest = 5.6\n",
        "time = 3\n"
      ],
      "metadata": {
        "id": "h-7Ro-oVQDVB"
      },
      "execution_count": null,
      "outputs": []
    },
    {
      "cell_type": "markdown",
      "source": [
        "Now let's calculate the simple intrest using simple math formula:\n",
        "\n",
        "`simple interest  = P x R x T / 100`\n",
        "\n",
        "where: \n",
        " \n",
        "    P = principle amount\n",
        "    R = rate of interest\n",
        "    T = time \n",
        "\n"
      ],
      "metadata": {
        "id": "vlTW7195RAUb"
      }
    },
    {
      "cell_type": "code",
      "source": [
        "simple_interest = principle_amount * rate_of_interest * time / 100"
      ],
      "metadata": {
        "id": "36-AbY5WQemi"
      },
      "execution_count": null,
      "outputs": []
    },
    {
      "cell_type": "code",
      "source": [
        "print(simple_interest)"
      ],
      "metadata": {
        "colab": {
          "base_uri": "https://localhost:8080/"
        },
        "id": "0R1eEXEDQrZB",
        "outputId": "2bcd1830-d62d-4381-c752-9f90ef564eb0"
      },
      "execution_count": null,
      "outputs": [
        {
          "output_type": "stream",
          "name": "stdout",
          "text": [
            "95.25599999999999\n"
          ]
        }
      ]
    },
    {
      "cell_type": "code",
      "source": [
        "print(type(simple_interest))"
      ],
      "metadata": {
        "colab": {
          "base_uri": "https://localhost:8080/"
        },
        "id": "PbTPVTLRQvIZ",
        "outputId": "cc739c02-fcba-4058-acd4-df5684c4fa22"
      },
      "execution_count": null,
      "outputs": [
        {
          "output_type": "stream",
          "name": "stdout",
          "text": [
            "<class 'float'>\n"
          ]
        }
      ]
    },
    {
      "cell_type": "code",
      "source": [
        "# total amount after including interest\n",
        "\n",
        "total_amount = principle_amount + simple_interest\n",
        "print(total_amount)"
      ],
      "metadata": {
        "colab": {
          "base_uri": "https://localhost:8080/"
        },
        "id": "6OXTiuuIQyu4",
        "outputId": "effe44d7-640a-44a5-f9a7-8d3a9c3cbbc6"
      },
      "execution_count": null,
      "outputs": [
        {
          "output_type": "stream",
          "name": "stdout",
          "text": [
            "662.256\n"
          ]
        }
      ]
    },
    {
      "cell_type": "code",
      "source": [
        ""
      ],
      "metadata": {
        "id": "c2a6OmlsSIag"
      },
      "execution_count": null,
      "outputs": []
    },
    {
      "cell_type": "markdown",
      "source": [
        "Thank you,\n",
        "\n",
        "Happy Coding!"
      ],
      "metadata": {
        "id": "HvZp2DbDSK_t"
      }
    },
    {
      "cell_type": "code",
      "source": [
        ""
      ],
      "metadata": {
        "id": "yuCV4ir6SPld"
      },
      "execution_count": null,
      "outputs": []
    }
  ]
}