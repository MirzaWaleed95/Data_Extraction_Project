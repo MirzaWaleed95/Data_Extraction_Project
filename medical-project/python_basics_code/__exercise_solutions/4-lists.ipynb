{
  "nbformat": 4,
  "nbformat_minor": 0,
  "metadata": {
    "colab": {
      "name": "4_lists.ipynb",
      "provenance": [],
      "collapsed_sections": []
    },
    "kernelspec": {
      "name": "python3",
      "display_name": "Python 3"
    },
    "language_info": {
      "name": "python"
    }
  },
  "cells": [
    {
      "cell_type": "markdown",
      "source": [
        "# 4 Lists\n",
        "\n",
        "Exercise 4 solutions"
      ],
      "metadata": {
        "id": "l4ZebagWpr-X"
      }
    },
    {
      "cell_type": "markdown",
      "source": [
        "1. You are a Marvel fan and created a list of superheroes.\n",
        "\n",
        "```py\n",
        "avengers  = [‘Iron Man’, ‘Captain America’, ‘Black Widow’, ‘Hulk’, ‘Thor’, ‘Hawkeye’]\n",
        "```\n",
        "\n",
        "Using this list, do the following:\n",
        "\n",
        "i. Calculate how many members in the Avengers team?\\\n",
        "ii. Iron Man made Spider-Man a new member of the Avengers, add him to your list.\\\n",
        "iii. Captain America is the leader of the Avengers, you need to add him before the Iron Man, so remove him from the list and add before the Iron Man.\\\n",
        "iv. You don’t like Thor and Hulk together because they got angry easily and fight with each other. So you have to separate them with each other. To separate them, either move “Black Widow” or “Hawkeye” in between them.\\\n",
        "v. After Avengers: End Game the original six avengers are retired, now you need to remove them from your list and add new superheroes like Doctor Strange, Vision, Wanda, Kate Bishop and Ant-Man.\\\n",
        "vi. As “Captain America” is also retired and now currently, no one is leader, so sort the list in alphabetical order. Whoever will come at 0th index will become the Leader. (BONUS: can you guess who will become the leader)\n",
        "\n"
      ],
      "metadata": {
        "id": "NDm5nrA0p1GL"
      }
    },
    {
      "cell_type": "code",
      "execution_count": null,
      "metadata": {
        "id": "JfwnNGy3kd4c"
      },
      "outputs": [],
      "source": [
        "avengers  = ['Iron Man', 'Captain America', 'Black Widow', 'Hulk', 'Thor', 'Hawkeye']"
      ]
    },
    {
      "cell_type": "code",
      "source": [
        "avengers"
      ],
      "metadata": {
        "colab": {
          "base_uri": "https://localhost:8080/"
        },
        "id": "gI9sGcfWqz8P",
        "outputId": "789f4eba-2201-459d-e539-56b5c8ad30ce"
      },
      "execution_count": null,
      "outputs": [
        {
          "output_type": "execute_result",
          "data": {
            "text/plain": [
              "['Iron Man', 'Captain America', 'Black Widow', 'Hulk', 'Thor', 'Hawkeye']"
            ]
          },
          "metadata": {},
          "execution_count": 16
        }
      ]
    },
    {
      "cell_type": "markdown",
      "source": [
        "### Calculating the total members\n",
        "\n",
        "we can use the len() to calculate the total items in the list"
      ],
      "metadata": {
        "id": "o4-cwl7bq3WR"
      }
    },
    {
      "cell_type": "code",
      "source": [
        "len(avengers)"
      ],
      "metadata": {
        "colab": {
          "base_uri": "https://localhost:8080/"
        },
        "id": "atmsJ3adq1To",
        "outputId": "39cde86a-670f-435f-85ca-eac091bfbc76"
      },
      "execution_count": null,
      "outputs": [
        {
          "output_type": "execute_result",
          "data": {
            "text/plain": [
              "6"
            ]
          },
          "metadata": {},
          "execution_count": 17
        }
      ]
    },
    {
      "cell_type": "markdown",
      "source": [
        "There are total 6 avengers"
      ],
      "metadata": {
        "id": "b7_XVoRZrG31"
      }
    },
    {
      "cell_type": "markdown",
      "source": [
        "### Adding spiderman to the team\n",
        "\n",
        "We can use .append() to add item to the list"
      ],
      "metadata": {
        "id": "Uvv10gM4rMvR"
      }
    },
    {
      "cell_type": "code",
      "source": [
        "avengers.append('Spider Man')"
      ],
      "metadata": {
        "id": "9zpJWd13rFYP"
      },
      "execution_count": null,
      "outputs": []
    },
    {
      "cell_type": "code",
      "source": [
        "avengers"
      ],
      "metadata": {
        "colab": {
          "base_uri": "https://localhost:8080/"
        },
        "id": "Dj4LfcfnrccU",
        "outputId": "dc928811-2e67-45e4-cf7c-a594a01f1664"
      },
      "execution_count": null,
      "outputs": [
        {
          "output_type": "execute_result",
          "data": {
            "text/plain": [
              "['Iron Man',\n",
              " 'Captain America',\n",
              " 'Black Widow',\n",
              " 'Hulk',\n",
              " 'Thor',\n",
              " 'Hawkeye',\n",
              " 'Spider Man']"
            ]
          },
          "metadata": {},
          "execution_count": 19
        }
      ]
    },
    {
      "cell_type": "markdown",
      "source": [
        "### Moving Captain America to the first position\n",
        "\n",
        "First remove Captain from 1st index: \n",
        "We can use .pop() to remove from the given index"
      ],
      "metadata": {
        "id": "67XatIzMrkk1"
      }
    },
    {
      "cell_type": "markdown",
      "source": [
        "Because we need to insert him later so store this in a variable called `captain_america`"
      ],
      "metadata": {
        "id": "uDQsm2PssVgA"
      }
    },
    {
      "cell_type": "code",
      "source": [
        "captain_america = avengers.pop(1)"
      ],
      "metadata": {
        "id": "YZfCm6s3reL_"
      },
      "execution_count": null,
      "outputs": []
    },
    {
      "cell_type": "code",
      "source": [
        "captain_america"
      ],
      "metadata": {
        "colab": {
          "base_uri": "https://localhost:8080/",
          "height": 35
        },
        "id": "vyU9CW3Fr3rL",
        "outputId": "0668be27-3f6e-4106-eb54-880926c43b54"
      },
      "execution_count": null,
      "outputs": [
        {
          "output_type": "execute_result",
          "data": {
            "application/vnd.google.colaboratory.intrinsic+json": {
              "type": "string"
            },
            "text/plain": [
              "'Captain America'"
            ]
          },
          "metadata": {},
          "execution_count": 21
        }
      ]
    },
    {
      "cell_type": "code",
      "source": [
        "avengers"
      ],
      "metadata": {
        "colab": {
          "base_uri": "https://localhost:8080/"
        },
        "id": "NEtxRnHFr5Mt",
        "outputId": "6e0c8b93-4703-47c9-9f8b-bff73fda5220"
      },
      "execution_count": null,
      "outputs": [
        {
          "output_type": "execute_result",
          "data": {
            "text/plain": [
              "['Iron Man', 'Black Widow', 'Hulk', 'Thor', 'Hawkeye', 'Spider Man']"
            ]
          },
          "metadata": {},
          "execution_count": 22
        }
      ]
    },
    {
      "cell_type": "markdown",
      "source": [
        "Now Add him to the 0th index using .insert()"
      ],
      "metadata": {
        "id": "OkDPPQOgsgm6"
      }
    },
    {
      "cell_type": "code",
      "source": [
        "avengers.insert(0, captain_america)"
      ],
      "metadata": {
        "id": "hEKD3s-Pr7lO"
      },
      "execution_count": null,
      "outputs": []
    },
    {
      "cell_type": "code",
      "source": [
        "avengers"
      ],
      "metadata": {
        "colab": {
          "base_uri": "https://localhost:8080/"
        },
        "id": "G45j--kJsB1O",
        "outputId": "4834f115-7149-46e1-e624-d1c37ec7df3c"
      },
      "execution_count": null,
      "outputs": [
        {
          "output_type": "execute_result",
          "data": {
            "text/plain": [
              "['Captain America',\n",
              " 'Iron Man',\n",
              " 'Black Widow',\n",
              " 'Hulk',\n",
              " 'Thor',\n",
              " 'Hawkeye',\n",
              " 'Spider Man']"
            ]
          },
          "metadata": {},
          "execution_count": 24
        }
      ]
    },
    {
      "cell_type": "markdown",
      "source": [
        "### Separating Thor and Hulk\n",
        "\n",
        "To seprate them we can move Black Window to in between them"
      ],
      "metadata": {
        "id": "H48z6T-Ysr3D"
      }
    },
    {
      "cell_type": "markdown",
      "source": [
        "Removing Black Widow"
      ],
      "metadata": {
        "id": "-PPZvyyfs7T7"
      }
    },
    {
      "cell_type": "code",
      "source": [
        "black_widow = avengers.pop(2)\n",
        "avengers"
      ],
      "metadata": {
        "colab": {
          "base_uri": "https://localhost:8080/"
        },
        "id": "Y-xC73UqsDZt",
        "outputId": "a6d987b9-a259-451c-830b-b9b6b901fe86"
      },
      "execution_count": null,
      "outputs": [
        {
          "output_type": "execute_result",
          "data": {
            "text/plain": [
              "['Captain America', 'Iron Man', 'Hulk', 'Thor', 'Hawkeye', 'Spider Man']"
            ]
          },
          "metadata": {},
          "execution_count": 25
        }
      ]
    },
    {
      "cell_type": "markdown",
      "source": [
        "Adding Black widow to the new position which is 3"
      ],
      "metadata": {
        "id": "x0cXKtfStH8m"
      }
    },
    {
      "cell_type": "code",
      "source": [
        "avengers.insert(3, black_widow)\n",
        "avengers"
      ],
      "metadata": {
        "colab": {
          "base_uri": "https://localhost:8080/"
        },
        "id": "Ri3QnKMGtEx1",
        "outputId": "a7f7598f-ff3a-47e2-cedb-1bf1b79fc8e2"
      },
      "execution_count": null,
      "outputs": [
        {
          "output_type": "execute_result",
          "data": {
            "text/plain": [
              "['Captain America',\n",
              " 'Iron Man',\n",
              " 'Hulk',\n",
              " 'Black Widow',\n",
              " 'Thor',\n",
              " 'Hawkeye',\n",
              " 'Spider Man']"
            ]
          },
          "metadata": {},
          "execution_count": 26
        }
      ]
    },
    {
      "cell_type": "markdown",
      "source": [
        "NOTE: You can also Separate thm using Hawkeye\n",
        "\n",
        "Can you do this for me? **Use the below cell for this**"
      ],
      "metadata": {
        "id": "xmayjaOltrLb"
      }
    },
    {
      "cell_type": "code",
      "source": [
        "# TODO"
      ],
      "metadata": {
        "id": "oNXUyiVrtZMC"
      },
      "execution_count": null,
      "outputs": []
    },
    {
      "cell_type": "markdown",
      "source": [
        "### Replacing the team with new heros\n",
        "\n",
        "First remove the retired heroes"
      ],
      "metadata": {
        "id": "hVBv7Zv1uKiA"
      }
    },
    {
      "cell_type": "code",
      "source": [
        "avengers.pop(0)\n",
        "avengers"
      ],
      "metadata": {
        "colab": {
          "base_uri": "https://localhost:8080/"
        },
        "id": "CX7xZwvDuAog",
        "outputId": "4a446909-4828-467a-f8fc-61315d09d6fd"
      },
      "execution_count": null,
      "outputs": [
        {
          "output_type": "execute_result",
          "data": {
            "text/plain": [
              "['Iron Man', 'Hulk', 'Black Widow', 'Thor', 'Hawkeye', 'Spider Man']"
            ]
          },
          "metadata": {},
          "execution_count": 29
        }
      ]
    },
    {
      "cell_type": "code",
      "source": [
        "avengers.pop(0)"
      ],
      "metadata": {
        "colab": {
          "base_uri": "https://localhost:8080/",
          "height": 35
        },
        "id": "zfK-r2tNuhII",
        "outputId": "151bcb6a-44fe-4a3d-99fc-f24ff0001418"
      },
      "execution_count": null,
      "outputs": [
        {
          "output_type": "execute_result",
          "data": {
            "application/vnd.google.colaboratory.intrinsic+json": {
              "type": "string"
            },
            "text/plain": [
              "'Iron Man'"
            ]
          },
          "metadata": {},
          "execution_count": 30
        }
      ]
    },
    {
      "cell_type": "code",
      "source": [
        "avengers.pop(0)\n"
      ],
      "metadata": {
        "colab": {
          "base_uri": "https://localhost:8080/",
          "height": 35
        },
        "id": "NNjIdLw_ujjH",
        "outputId": "ec74b6c2-1a1b-467b-bb3e-205a4672df50"
      },
      "execution_count": null,
      "outputs": [
        {
          "output_type": "execute_result",
          "data": {
            "application/vnd.google.colaboratory.intrinsic+json": {
              "type": "string"
            },
            "text/plain": [
              "'Hulk'"
            ]
          },
          "metadata": {},
          "execution_count": 31
        }
      ]
    },
    {
      "cell_type": "code",
      "source": [
        "avengers.pop(0)\n"
      ],
      "metadata": {
        "colab": {
          "base_uri": "https://localhost:8080/",
          "height": 35
        },
        "id": "167HfIXwunin",
        "outputId": "a160e617-d838-4d43-f15a-3aaf1f50d26a"
      },
      "execution_count": null,
      "outputs": [
        {
          "output_type": "execute_result",
          "data": {
            "application/vnd.google.colaboratory.intrinsic+json": {
              "type": "string"
            },
            "text/plain": [
              "'Black Widow'"
            ]
          },
          "metadata": {},
          "execution_count": 32
        }
      ]
    },
    {
      "cell_type": "code",
      "source": [
        "avengers.pop(0)\n"
      ],
      "metadata": {
        "colab": {
          "base_uri": "https://localhost:8080/",
          "height": 35
        },
        "id": "53cf3v82upvH",
        "outputId": "b5ff7869-516b-44cb-9629-871668c44f1b"
      },
      "execution_count": null,
      "outputs": [
        {
          "output_type": "execute_result",
          "data": {
            "application/vnd.google.colaboratory.intrinsic+json": {
              "type": "string"
            },
            "text/plain": [
              "'Thor'"
            ]
          },
          "metadata": {},
          "execution_count": 33
        }
      ]
    },
    {
      "cell_type": "code",
      "source": [
        "avengers.pop(0)\n"
      ],
      "metadata": {
        "colab": {
          "base_uri": "https://localhost:8080/",
          "height": 35
        },
        "id": "uoSlSmdPurj3",
        "outputId": "7a2d7af9-3ddd-4e11-a096-595c983f7223"
      },
      "execution_count": null,
      "outputs": [
        {
          "output_type": "execute_result",
          "data": {
            "application/vnd.google.colaboratory.intrinsic+json": {
              "type": "string"
            },
            "text/plain": [
              "'Hawkeye'"
            ]
          },
          "metadata": {},
          "execution_count": 34
        }
      ]
    },
    {
      "cell_type": "code",
      "source": [
        "avengers"
      ],
      "metadata": {
        "colab": {
          "base_uri": "https://localhost:8080/"
        },
        "id": "bVnpeKxXutF3",
        "outputId": "c659c67b-6451-43ff-c233-97b2ab1f9775"
      },
      "execution_count": null,
      "outputs": [
        {
          "output_type": "execute_result",
          "data": {
            "text/plain": [
              "['Spider Man']"
            ]
          },
          "metadata": {},
          "execution_count": 35
        }
      ]
    },
    {
      "cell_type": "markdown",
      "source": [
        "Only spider man left in the team\n",
        "\n",
        "Let's add new superheroes to the team\n",
        "\n",
        "Doctor Strange, Vision, Wanda, Kate Bishop and Ant-Man"
      ],
      "metadata": {
        "id": "mdcYsiYVuwH7"
      }
    },
    {
      "cell_type": "markdown",
      "source": [
        "You can append them one by one using .append()\n",
        "\n",
        "OR\n",
        "\n",
        "You can be smart and use your friendly neighborhood function help() "
      ],
      "metadata": {
        "id": "mBW0XTCEvOT8"
      }
    },
    {
      "cell_type": "code",
      "source": [
        "help(avengers)"
      ],
      "metadata": {
        "colab": {
          "base_uri": "https://localhost:8080/"
        },
        "id": "Grc6tH-Vuusc",
        "outputId": "a8cfb40a-7ddc-4b67-91bc-8a7f23f7e247"
      },
      "execution_count": null,
      "outputs": [
        {
          "output_type": "stream",
          "name": "stdout",
          "text": [
            "Help on list object:\n",
            "\n",
            "class list(object)\n",
            " |  list(iterable=(), /)\n",
            " |  \n",
            " |  Built-in mutable sequence.\n",
            " |  \n",
            " |  If no argument is given, the constructor creates a new empty list.\n",
            " |  The argument must be an iterable if specified.\n",
            " |  \n",
            " |  Methods defined here:\n",
            " |  \n",
            " |  __add__(self, value, /)\n",
            " |      Return self+value.\n",
            " |  \n",
            " |  __contains__(self, key, /)\n",
            " |      Return key in self.\n",
            " |  \n",
            " |  __delitem__(self, key, /)\n",
            " |      Delete self[key].\n",
            " |  \n",
            " |  __eq__(self, value, /)\n",
            " |      Return self==value.\n",
            " |  \n",
            " |  __ge__(self, value, /)\n",
            " |      Return self>=value.\n",
            " |  \n",
            " |  __getattribute__(self, name, /)\n",
            " |      Return getattr(self, name).\n",
            " |  \n",
            " |  __getitem__(...)\n",
            " |      x.__getitem__(y) <==> x[y]\n",
            " |  \n",
            " |  __gt__(self, value, /)\n",
            " |      Return self>value.\n",
            " |  \n",
            " |  __iadd__(self, value, /)\n",
            " |      Implement self+=value.\n",
            " |  \n",
            " |  __imul__(self, value, /)\n",
            " |      Implement self*=value.\n",
            " |  \n",
            " |  __init__(self, /, *args, **kwargs)\n",
            " |      Initialize self.  See help(type(self)) for accurate signature.\n",
            " |  \n",
            " |  __iter__(self, /)\n",
            " |      Implement iter(self).\n",
            " |  \n",
            " |  __le__(self, value, /)\n",
            " |      Return self<=value.\n",
            " |  \n",
            " |  __len__(self, /)\n",
            " |      Return len(self).\n",
            " |  \n",
            " |  __lt__(self, value, /)\n",
            " |      Return self<value.\n",
            " |  \n",
            " |  __mul__(self, value, /)\n",
            " |      Return self*value.\n",
            " |  \n",
            " |  __ne__(self, value, /)\n",
            " |      Return self!=value.\n",
            " |  \n",
            " |  __repr__(self, /)\n",
            " |      Return repr(self).\n",
            " |  \n",
            " |  __reversed__(self, /)\n",
            " |      Return a reverse iterator over the list.\n",
            " |  \n",
            " |  __rmul__(self, value, /)\n",
            " |      Return value*self.\n",
            " |  \n",
            " |  __setitem__(self, key, value, /)\n",
            " |      Set self[key] to value.\n",
            " |  \n",
            " |  __sizeof__(self, /)\n",
            " |      Return the size of the list in memory, in bytes.\n",
            " |  \n",
            " |  append(self, object, /)\n",
            " |      Append object to the end of the list.\n",
            " |  \n",
            " |  clear(self, /)\n",
            " |      Remove all items from list.\n",
            " |  \n",
            " |  copy(self, /)\n",
            " |      Return a shallow copy of the list.\n",
            " |  \n",
            " |  count(self, value, /)\n",
            " |      Return number of occurrences of value.\n",
            " |  \n",
            " |  extend(self, iterable, /)\n",
            " |      Extend list by appending elements from the iterable.\n",
            " |  \n",
            " |  index(self, value, start=0, stop=9223372036854775807, /)\n",
            " |      Return first index of value.\n",
            " |      \n",
            " |      Raises ValueError if the value is not present.\n",
            " |  \n",
            " |  insert(self, index, object, /)\n",
            " |      Insert object before index.\n",
            " |  \n",
            " |  pop(self, index=-1, /)\n",
            " |      Remove and return item at index (default last).\n",
            " |      \n",
            " |      Raises IndexError if list is empty or index is out of range.\n",
            " |  \n",
            " |  remove(self, value, /)\n",
            " |      Remove first occurrence of value.\n",
            " |      \n",
            " |      Raises ValueError if the value is not present.\n",
            " |  \n",
            " |  reverse(self, /)\n",
            " |      Reverse *IN PLACE*.\n",
            " |  \n",
            " |  sort(self, /, *, key=None, reverse=False)\n",
            " |      Stable sort *IN PLACE*.\n",
            " |  \n",
            " |  ----------------------------------------------------------------------\n",
            " |  Static methods defined here:\n",
            " |  \n",
            " |  __new__(*args, **kwargs) from builtins.type\n",
            " |      Create and return a new object.  See help(type) for accurate signature.\n",
            " |  \n",
            " |  ----------------------------------------------------------------------\n",
            " |  Data and other attributes defined here:\n",
            " |  \n",
            " |  __hash__ = None\n",
            "\n"
          ]
        }
      ]
    },
    {
      "cell_type": "markdown",
      "source": [
        "Look at the extend() method we can use this to add the new list of heroes "
      ],
      "metadata": {
        "id": "-XrnHGiDvmH8"
      }
    },
    {
      "cell_type": "code",
      "source": [
        "new_superheroes = ['Doctor Strange', 'Vision', 'Wanda', 'Kate Bishop', 'Ant Man']\n",
        "new_superheroes"
      ],
      "metadata": {
        "colab": {
          "base_uri": "https://localhost:8080/"
        },
        "id": "hVCyQcdtvh-_",
        "outputId": "cad43c0e-c807-49b8-8a65-f9669e8e6e84"
      },
      "execution_count": null,
      "outputs": [
        {
          "output_type": "execute_result",
          "data": {
            "text/plain": [
              "['Doctor Strange', 'Vision', 'Wanda', 'Kate Bishop', 'Ant Man']"
            ]
          },
          "metadata": {},
          "execution_count": 37
        }
      ]
    },
    {
      "cell_type": "code",
      "source": [
        "avengers.extend(new_superheroes)\n",
        "avengers"
      ],
      "metadata": {
        "colab": {
          "base_uri": "https://localhost:8080/"
        },
        "id": "HeBfS4J1wAdR",
        "outputId": "05822917-d3a6-45c4-ea58-e0cf4a1fa7d3"
      },
      "execution_count": null,
      "outputs": [
        {
          "output_type": "execute_result",
          "data": {
            "text/plain": [
              "['Spider Man', 'Doctor Strange', 'Vision', 'Wanda', 'Kate Bishop', 'Ant Man']"
            ]
          },
          "metadata": {},
          "execution_count": 38
        }
      ]
    },
    {
      "cell_type": "code",
      "source": [
        "len(avengers)"
      ],
      "metadata": {
        "colab": {
          "base_uri": "https://localhost:8080/"
        },
        "id": "p9hylQtRwEa-",
        "outputId": "9a341f75-54cf-4b9f-d15e-8c0e6b88dbfb"
      },
      "execution_count": null,
      "outputs": [
        {
          "output_type": "execute_result",
          "data": {
            "text/plain": [
              "6"
            ]
          },
          "metadata": {},
          "execution_count": 39
        }
      ]
    },
    {
      "cell_type": "markdown",
      "source": [
        "### Finding new leader of the team\n",
        "\n",
        "sorting the list in alphabetical order"
      ],
      "metadata": {
        "id": "79nWe92GwP_Z"
      }
    },
    {
      "cell_type": "code",
      "source": [
        "avengers.sort()"
      ],
      "metadata": {
        "id": "uMEsA22NwG2u"
      },
      "execution_count": null,
      "outputs": []
    },
    {
      "cell_type": "code",
      "source": [
        "avengers"
      ],
      "metadata": {
        "colab": {
          "base_uri": "https://localhost:8080/"
        },
        "id": "U9M7m8Dpwad2",
        "outputId": "a7e7bea7-0a2a-44b5-e090-2f3b45c5fc31"
      },
      "execution_count": null,
      "outputs": [
        {
          "output_type": "execute_result",
          "data": {
            "text/plain": [
              "['Ant Man', 'Doctor Strange', 'Kate Bishop', 'Spider Man', 'Vision', 'Wanda']"
            ]
          },
          "metadata": {},
          "execution_count": 41
        }
      ]
    },
    {
      "cell_type": "markdown",
      "source": [
        "As 'Ant Man' comes at the 0th index He is the new Leader of the Avengers. "
      ],
      "metadata": {
        "id": "rVqPPP6Zwd-K"
      }
    },
    {
      "cell_type": "code",
      "source": [
        ""
      ],
      "metadata": {
        "id": "xwv4vx0kwbiu"
      },
      "execution_count": null,
      "outputs": []
    },
    {
      "cell_type": "markdown",
      "source": [
        "Thank You,\n",
        "\n",
        "Happy Coding!"
      ],
      "metadata": {
        "id": "bjzMR1aBwqMV"
      }
    },
    {
      "cell_type": "code",
      "source": [
        ""
      ],
      "metadata": {
        "id": "1tKUG2_UwtTp"
      },
      "execution_count": null,
      "outputs": []
    }
  ]
}