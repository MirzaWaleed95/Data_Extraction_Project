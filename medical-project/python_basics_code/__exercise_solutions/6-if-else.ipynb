{
  "nbformat": 4,
  "nbformat_minor": 0,
  "metadata": {
    "colab": {
      "name": "6_If_else.ipynb",
      "provenance": [],
      "collapsed_sections": []
    },
    "kernelspec": {
      "name": "python3",
      "display_name": "Python 3"
    },
    "language_info": {
      "name": "python"
    }
  },
  "cells": [
    {
      "cell_type": "markdown",
      "source": [
        "# 6 IF conditions\n",
        "\n",
        "solutions"
      ],
      "metadata": {
        "id": "VZ8nRD_JxQRI"
      }
    },
    {
      "cell_type": "markdown",
      "source": [
        "1. Write a program that can tell you your BMI Category.\n",
        "\n",
        "+ Ask user to enter height\n",
        "+ Ask user to enter weight\n",
        "+ Calculate the BMI(Body Mass Index = wight / height 2) and store it in a variable\n",
        "+ If the BMI is 30 or greater, print “Obesity”\n",
        "+ If the BMI is in between 25 and 29, print “Over Weight”\n",
        "+ If the BMI is in between 18.5 and 25, print “Normal”\n",
        "+ If the BMI is less than 18.5, print “Under Weight”\n"
      ],
      "metadata": {
        "id": "K54tsF28xdC5"
      }
    },
    {
      "cell_type": "markdown",
      "source": [
        "### Enter Height and Weight "
      ],
      "metadata": {
        "id": "BNHdGsTJxyKw"
      }
    },
    {
      "cell_type": "code",
      "execution_count": null,
      "metadata": {
        "colab": {
          "base_uri": "https://localhost:8080/"
        },
        "id": "vSOGoPgJxM06",
        "outputId": "b27f1940-6dcd-4c18-fd28-332a7d11d5af"
      },
      "outputs": [
        {
          "name": "stdout",
          "output_type": "stream",
          "text": [
            "Enter your height: 168\n"
          ]
        }
      ],
      "source": [
        "height = input(\"Enter your height: \")\n",
        "height = int(height)"
      ]
    },
    {
      "cell_type": "code",
      "source": [
        "weight = input(\"Enter your Weight: \")\n",
        "weight = float(weight)"
      ],
      "metadata": {
        "colab": {
          "base_uri": "https://localhost:8080/"
        },
        "id": "mh6hOlXgx7BJ",
        "outputId": "671b2af0-7b7b-4fc8-daef-65c0fa959f22"
      },
      "execution_count": null,
      "outputs": [
        {
          "name": "stdout",
          "output_type": "stream",
          "text": [
            "Enter your Weight: 59\n"
          ]
        }
      ]
    },
    {
      "cell_type": "markdown",
      "source": [
        "### Calculate BMI\n",
        "\n",
        "BMI = weight / height **2"
      ],
      "metadata": {
        "id": "UyPPvz-nyIc8"
      }
    },
    {
      "cell_type": "code",
      "source": [
        "bmi = weight / (height**2)"
      ],
      "metadata": {
        "id": "DbykoyCuyFQm"
      },
      "execution_count": null,
      "outputs": []
    },
    {
      "cell_type": "code",
      "source": [
        "bmi"
      ],
      "metadata": {
        "colab": {
          "base_uri": "https://localhost:8080/"
        },
        "id": "tIIyqYXoyWBt",
        "outputId": "37b53a57-f317-4282-a5e4-43ab6274028a"
      },
      "execution_count": null,
      "outputs": [
        {
          "output_type": "execute_result",
          "data": {
            "text/plain": [
              "0.002090419501133787"
            ]
          },
          "metadata": {},
          "execution_count": 8
        }
      ]
    },
    {
      "cell_type": "code",
      "source": [
        "if bmi > 30:\n",
        "    print('Obesity')\n",
        "\n",
        "elif bmi > 25 and bmi < 29:\n",
        "    print('Overwieght')\n",
        "\n",
        "elif bmi > 18.5 and bmi < 25:\n",
        "    print('Normal')\n",
        "\n",
        "elif bmi < 18.5:\n",
        "    print('Underweight') "
      ],
      "metadata": {
        "id": "6AylI89kyXx-",
        "colab": {
          "base_uri": "https://localhost:8080/"
        },
        "outputId": "d516a7a6-6211-4ba5-8e3a-4e1ab9df354a"
      },
      "execution_count": null,
      "outputs": [
        {
          "output_type": "stream",
          "name": "stdout",
          "text": [
            "Underweight\n"
          ]
        }
      ]
    },
    {
      "cell_type": "markdown",
      "source": [
        "2. Using the following list of cities per country,\n",
        "```python\n",
        "India = [\"Mumbai\", \"Bangalore\", \"Chennai\", \"Delhi\"]\n",
        "USA = [\"New York\",\"Chicago\",\"Las Vegas\", “San Francisco”]\n",
        "UK = [“London”, “Manchester”, “Liverpool”, “Nottingham”]\n",
        "```\n",
        "- Write a program that asks the user to enter a city name, and it should tell which country the city belongs to\n",
        "- Write a program that asks user to enter two cities, and it tells you if they both are in the same country or not. For example, if I enter Mumbai and Chennai, it will print \"Both cities are in India\" but if I enter Mumbai and New York it should print \"They don't belong to the same country\"\n"
      ],
      "metadata": {
        "id": "1gzMfzEoBpK6"
      }
    },
    {
      "cell_type": "code",
      "source": [
        "india = [\"Mumbai\", \"Bangalore\", \"Chennai\", \"Delhi\"]\n",
        "usa = [\"New York\", \"Chicago\", \"Las Vegas\", \"San Francisco\"]\n",
        "uk = [\"London\", \"Manchester\", \"Liverpool\", \"Nottingham\"]"
      ],
      "metadata": {
        "id": "HQlQxVgjA4W1"
      },
      "execution_count": null,
      "outputs": []
    },
    {
      "cell_type": "code",
      "source": [
        "city = input(\"Enter city name: \")\n",
        "if city in india:\n",
        "    print(f\"{city} belongs to India.\")\n",
        "\n",
        "elif city in usa:\n",
        "    print(f\"{city} belongs to USA.\")\n",
        "\n",
        "elif city in uk:\n",
        "    print(f\"{city} belongs to UK.\")\n",
        "\n",
        "else:\n",
        "    print(\"Unknown City.\")"
      ],
      "metadata": {
        "colab": {
          "base_uri": "https://localhost:8080/"
        },
        "id": "zqstR8j6CTPX",
        "outputId": "7f4d28c5-4be3-4e17-f046-e8531162f3bf"
      },
      "execution_count": null,
      "outputs": [
        {
          "output_type": "stream",
          "name": "stdout",
          "text": [
            "Enter city name: Sambhal\n",
            "Unknown City.\n"
          ]
        }
      ]
    },
    {
      "cell_type": "code",
      "source": [
        "city1 = input(\"Enter city: \")\n",
        "city2 = input(\"Enter another city: \")\n",
        "\n",
        "if city1 in india and city2 in india:\n",
        "    print(\"Both city belongs to India.\")\n",
        "\n",
        "elif city1 in usa and city2 in usa:\n",
        "    print(\"Both city belongs to USA.\")\n",
        "\n",
        "elif city1 in uk and city2 in uk:\n",
        "    print(\"Both city belongs to UK.\")\n",
        "\n",
        "else:\n",
        "    print(\"Both city belongs to different countries\")"
      ],
      "metadata": {
        "colab": {
          "base_uri": "https://localhost:8080/"
        },
        "id": "n71NdDfnC6f5",
        "outputId": "a72eac6c-3717-40cb-905e-d1e0cad2223e"
      },
      "execution_count": null,
      "outputs": [
        {
          "output_type": "stream",
          "name": "stdout",
          "text": [
            "Enter city: New York\n",
            "Enter another city: Mumbai\n",
            "Both city belongs to different countries\n"
          ]
        }
      ]
    },
    {
      "cell_type": "code",
      "source": [
        ""
      ],
      "metadata": {
        "id": "1yuNzyZMF9j0"
      },
      "execution_count": null,
      "outputs": []
    },
    {
      "cell_type": "markdown",
      "source": [
        "Thank You,\n",
        "\n",
        "Happy Coding!"
      ],
      "metadata": {
        "id": "fUvdM82GHlA4"
      }
    },
    {
      "cell_type": "code",
      "source": [
        ""
      ],
      "metadata": {
        "id": "ph9BH2ZtHoPy"
      },
      "execution_count": null,
      "outputs": []
    }
  ]
}