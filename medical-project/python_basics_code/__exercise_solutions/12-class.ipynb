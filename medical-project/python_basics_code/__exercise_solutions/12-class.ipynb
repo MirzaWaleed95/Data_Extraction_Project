{
  "nbformat": 4,
  "nbformat_minor": 0,
  "metadata": {
    "colab": {
      "name": "12_class.ipynb",
      "provenance": [],
      "collapsed_sections": []
    },
    "kernelspec": {
      "name": "python3",
      "display_name": "Python 3"
    },
    "language_info": {
      "name": "python"
    }
  },
  "cells": [
    {
      "cell_type": "markdown",
      "source": [
        "# Classes and Objects\n",
        "\n",
        "Solution\n"
      ],
      "metadata": {
        "id": "jKTtJYRXCNOX"
      }
    },
    {
      "cell_type": "markdown",
      "source": [
        "### 1. Avengers is a Marvel’s American Superheroes team, and you are a fan of avengers, recently you have learned about classes and objects in your python course. Now you want to showcase your programming skills by representing the Avengers team using classes. Create a class called Avenger and create these six superheroes using this class. Super_heroes = [‘Captain America’, ’Iron Man’,  ‘Black Widow’, ‘Hulk’, ‘Thor’, ‘Hawkeye’]\n",
        "\n",
        "### 2. Your Avenger class should have these properties:\n",
        "- Name\n",
        "- Age\n",
        "- Gender\n",
        "- Super Power\n",
        "- Weapon\n",
        "\n",
        "3. Captain America has Super strength, Iron Man has Technology, Black Widow is superhuman, Hulk has Unlimited Strength, Thor has super Energy and Hawkeye has fighting skills as superpowers.\n",
        "4. Weapons: Shield, Armor, Batons, No Weapon for hulk, Mjölnir, Bow and Arrows  \n",
        "5. Create methods to getting the information of each superhero\n",
        "6. Create a method is_leader() which will tell if the superhero is leader or not.\n"
      ],
      "metadata": {
        "id": "nXsW-WStCSQ8"
      }
    },
    {
      "cell_type": "code",
      "execution_count": null,
      "metadata": {
        "id": "H3Z2qjimCH03"
      },
      "outputs": [],
      "source": [
        "# creating the Avenger class\n",
        "\n",
        "class Avenger:\n",
        "    \"\"\"Class to represent an Avenger\"\"\"\n",
        "    \n",
        "    def __init__(self, name, age, gender, superPower, weapon):\n",
        "        self.name = name\n",
        "        self.age = age\n",
        "        self.gender = gender\n",
        "        self.superPower = superPower\n",
        "        self.weapon = weapon\n",
        "\n",
        "        # is Leader\n",
        "        self.isLeader = False\n",
        "\n",
        "    def get_name(self):\n",
        "        return self.name\n",
        "\n",
        "    def get_age(self):\n",
        "        return self.age\n",
        "\n",
        "    def get_superpower(self):\n",
        "        return self.superPower\n",
        "\n",
        "    def get_info(self):\n",
        "        return f\"\"\"\n",
        "        Avenger Profile:\n",
        "\n",
        "        Name:   {self.name}\n",
        "        Age:    {self.age}\n",
        "        Gender: {self.gender}\n",
        "        \n",
        "        Has {self.weapon} weapon and {self.superPower} super Power. \n",
        "        \"\"\" \n",
        "\n",
        "    # is leader function\n",
        "    def is_leader(self):\n",
        "        return self.isLeader\n",
        "\n",
        "    def make_leader(self):\n",
        "        self.isLeader = True\n",
        "        return f\"{self.name} is the new leader of the Avengers\"\n",
        "\n",
        "    def remove_leader(self):\n",
        "        self.isLeader = False\n",
        "        return f\"{self.name} is removed from the leader\"\n",
        "\n",
        "    def __str__(self):\n",
        "        return f\"Avenger({self.name}, {self.age}, ...)\"\n",
        "\n",
        "    "
      ]
    },
    {
      "cell_type": "markdown",
      "source": [
        "Now, let's create our superheroes team"
      ],
      "metadata": {
        "id": "om7DU9ggCXEP"
      }
    },
    {
      "cell_type": "code",
      "source": [
        "Super_heroes = ['Captain America', 'Iron Man', 'Black Widow', 'Hulk', 'Thor', 'Hawkeye']\n",
        "super_powers = ['Super strength', 'Technology', 'superhuman', 'Unlimited Strength', 'super Energy', 'fighting skills'] # from question\n",
        "weapons = [\"Shield\", \"Armor\", \"Batons\", \"No Weapon\", \"Mjölnir\", \"Bow and Arrows\"]    #from question\n",
        "\n",
        "# let's create a ages and gender list randomly\n",
        "ages = [110, 40, 35, 34, 10000, 30]\n",
        "genders = ['M', 'M', 'F', 'M', 'M', 'M']\n",
        "\n",
        "# now create our avengers team using the data\n",
        "avengers = []\n",
        "for name, age, gender, power, weapon in zip(Super_heroes, ages, genders, super_powers, weapons):\n",
        "    avengers.append(\n",
        "        Avenger(name, age, gender, power, weapon)\n",
        "    )"
      ],
      "metadata": {
        "id": "jYOj4C0QCWQU"
      },
      "execution_count": null,
      "outputs": []
    },
    {
      "cell_type": "markdown",
      "source": [
        "Let's check by printing a super hero"
      ],
      "metadata": {
        "id": "RM_wE20ECf4e"
      }
    },
    {
      "cell_type": "code",
      "source": [
        "print(avengers[0])"
      ],
      "metadata": {
        "colab": {
          "base_uri": "https://localhost:8080/"
        },
        "id": "sde3139UCdTg",
        "outputId": "ef390ea7-354e-42cd-f8a3-74be6c9cbf03"
      },
      "execution_count": null,
      "outputs": [
        {
          "output_type": "stream",
          "name": "stdout",
          "text": [
            "Avenger(Captain America, 110, ...)\n"
          ]
        }
      ]
    },
    {
      "cell_type": "code",
      "source": [
        "avengers"
      ],
      "metadata": {
        "colab": {
          "base_uri": "https://localhost:8080/"
        },
        "id": "NA39O5xYCivd",
        "outputId": "13d7f2b8-c66c-4e30-a1e2-885ae4505749"
      },
      "execution_count": null,
      "outputs": [
        {
          "output_type": "execute_result",
          "data": {
            "text/plain": [
              "[<__main__.Avenger at 0x7f8386ed1d90>,\n",
              " <__main__.Avenger at 0x7f8386ed1dd0>,\n",
              " <__main__.Avenger at 0x7f8386ed1e10>,\n",
              " <__main__.Avenger at 0x7f8386ed1e50>,\n",
              " <__main__.Avenger at 0x7f8386ed1e90>,\n",
              " <__main__.Avenger at 0x7f8386ed1f10>]"
            ]
          },
          "metadata": {},
          "execution_count": 4
        }
      ]
    },
    {
      "cell_type": "markdown",
      "source": [
        "Making a leader"
      ],
      "metadata": {
        "id": "GcB3a7HXCnUZ"
      }
    },
    {
      "cell_type": "code",
      "source": [
        "avengers[0].make_leader()"
      ],
      "metadata": {
        "colab": {
          "base_uri": "https://localhost:8080/",
          "height": 35
        },
        "id": "S8dKIqJdCk56",
        "outputId": "b6c9fa68-9cae-488b-9929-f91e87aa58cd"
      },
      "execution_count": null,
      "outputs": [
        {
          "output_type": "execute_result",
          "data": {
            "text/plain": [
              "'Captain America is the new leader of the Avengers'"
            ],
            "application/vnd.google.colaboratory.intrinsic+json": {
              "type": "string"
            }
          },
          "metadata": {},
          "execution_count": 5
        }
      ]
    },
    {
      "cell_type": "code",
      "source": [
        "# print information\n",
        "print(avengers[2].get_info())"
      ],
      "metadata": {
        "colab": {
          "base_uri": "https://localhost:8080/"
        },
        "id": "9joMQerJCp6B",
        "outputId": "438cee82-f435-4b97-e1be-a2357a33acb2"
      },
      "execution_count": null,
      "outputs": [
        {
          "output_type": "stream",
          "name": "stdout",
          "text": [
            "\n",
            "        Avenger Profile:\n",
            "\n",
            "        Name:   Black Widow\n",
            "        Age:    35\n",
            "        Gender: F\n",
            "        \n",
            "        Has Batons weapon and superhuman super Power. \n",
            "        \n"
          ]
        }
      ]
    },
    {
      "cell_type": "code",
      "source": [
        "print(avengers[4].get_info())"
      ],
      "metadata": {
        "colab": {
          "base_uri": "https://localhost:8080/"
        },
        "id": "r_xsgaonCr7s",
        "outputId": "6cf7e59b-cf5c-4875-b641-f24328f864db"
      },
      "execution_count": null,
      "outputs": [
        {
          "output_type": "stream",
          "name": "stdout",
          "text": [
            "\n",
            "        Avenger Profile:\n",
            "\n",
            "        Name:   Thor\n",
            "        Age:    10000\n",
            "        Gender: M\n",
            "        \n",
            "        Has Mjölnir weapon and super Energy super Power. \n",
            "        \n"
          ]
        }
      ]
    },
    {
      "cell_type": "code",
      "source": [
        "print(avengers[1].is_leader())"
      ],
      "metadata": {
        "colab": {
          "base_uri": "https://localhost:8080/"
        },
        "id": "zvWJCKswCvCv",
        "outputId": "93b21423-07ad-424a-e253-997a01dfab5d"
      },
      "execution_count": null,
      "outputs": [
        {
          "output_type": "stream",
          "name": "stdout",
          "text": [
            "False\n"
          ]
        }
      ]
    },
    {
      "cell_type": "code",
      "source": [
        "print(avengers[0].is_leader())"
      ],
      "metadata": {
        "colab": {
          "base_uri": "https://localhost:8080/"
        },
        "id": "TbA7FGDwCxTn",
        "outputId": "4c4f3435-d0dc-4778-f6b8-607279c95d9a"
      },
      "execution_count": null,
      "outputs": [
        {
          "output_type": "stream",
          "name": "stdout",
          "text": [
            "True\n"
          ]
        }
      ]
    },
    {
      "cell_type": "code",
      "source": [
        "# printing the information of Iron Man\n",
        "for avenger in avengers:\n",
        "    if avenger.get_name() == 'Iron Man':\n",
        "        print(avenger.get_info())\n"
      ],
      "metadata": {
        "colab": {
          "base_uri": "https://localhost:8080/"
        },
        "id": "frV-7X58Czg2",
        "outputId": "8ba145bb-b14a-4a65-953f-57e122fceef8"
      },
      "execution_count": null,
      "outputs": [
        {
          "output_type": "stream",
          "name": "stdout",
          "text": [
            "\n",
            "        Avenger Profile:\n",
            "\n",
            "        Name:   Iron Man\n",
            "        Age:    40\n",
            "        Gender: M\n",
            "        \n",
            "        Has Armor weapon and Technology super Power. \n",
            "        \n"
          ]
        }
      ]
    },
    {
      "cell_type": "code",
      "source": [
        "avengers[5].get_superpower()"
      ],
      "metadata": {
        "colab": {
          "base_uri": "https://localhost:8080/",
          "height": 35
        },
        "id": "Y2ztmxfcC1wc",
        "outputId": "34fdbfb3-b6bc-4d00-9cb4-63b5f9012039"
      },
      "execution_count": null,
      "outputs": [
        {
          "output_type": "execute_result",
          "data": {
            "text/plain": [
              "'fighting skills'"
            ],
            "application/vnd.google.colaboratory.intrinsic+json": {
              "type": "string"
            }
          },
          "metadata": {},
          "execution_count": 11
        }
      ]
    },
    {
      "cell_type": "code",
      "source": [
        ""
      ],
      "metadata": {
        "id": "hkYE-mE8C4Zt"
      },
      "execution_count": null,
      "outputs": []
    },
    {
      "cell_type": "markdown",
      "source": [
        "### You can achieve the above program by using other methods also. Your solution might be different.\n"
      ],
      "metadata": {
        "id": "PmCkBApoC8EW"
      }
    },
    {
      "cell_type": "markdown",
      "source": [
        "Thank You,\n",
        "\n",
        "Happy Learning!"
      ],
      "metadata": {
        "id": "qKUECfoXDAyY"
      }
    },
    {
      "cell_type": "code",
      "source": [
        ""
      ],
      "metadata": {
        "id": "ui3WS3EAC8lZ"
      },
      "execution_count": null,
      "outputs": []
    }
  ]
}