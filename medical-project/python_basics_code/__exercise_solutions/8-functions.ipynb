{
  "nbformat": 4,
  "nbformat_minor": 0,
  "metadata": {
    "colab": {
      "name": "8_functions.ipynb",
      "provenance": [],
      "collapsed_sections": []
    },
    "kernelspec": {
      "name": "python3",
      "display_name": "Python 3"
    },
    "language_info": {
      "name": "python"
    }
  },
  "cells": [
    {
      "cell_type": "markdown",
      "source": [
        "# 8 Functions\n",
        "\n",
        "Excercise Solution"
      ],
      "metadata": {
        "id": "yoyotujl69UP"
      }
    },
    {
      "cell_type": "markdown",
      "source": [
        "### 1. Write a python function to check if any given number is prime number and odd number?"
      ],
      "metadata": {
        "id": "rQvL5Nm47FLO"
      }
    },
    {
      "cell_type": "code",
      "execution_count": null,
      "metadata": {
        "id": "2KCF_V_w62IP"
      },
      "outputs": [],
      "source": [
        "# creating the function\n",
        "\n",
        "def prime_and_odd(num):\n",
        "    \n",
        "    # checking for even numbers\n",
        "    if num%2 == 0:\n",
        "        return False\n",
        "\n",
        "    if num < 2:\n",
        "        return False\n",
        "\n",
        "    # checking for prime numbers\n",
        "    for i in range(2, num//2):\n",
        "        if num%i ==0:\n",
        "            return False\n",
        "    \n",
        "    return True"
      ]
    },
    {
      "cell_type": "code",
      "source": [
        "# calling the function\n",
        "prime_and_odd(1)"
      ],
      "metadata": {
        "colab": {
          "base_uri": "https://localhost:8080/"
        },
        "id": "9RHhmzFh77z-",
        "outputId": "e504203f-fb4c-4c14-e6c7-8c998daa0b8c"
      },
      "execution_count": null,
      "outputs": [
        {
          "output_type": "execute_result",
          "data": {
            "text/plain": [
              "False"
            ]
          },
          "metadata": {},
          "execution_count": 4
        }
      ]
    },
    {
      "cell_type": "code",
      "source": [
        "prime_and_odd(2)"
      ],
      "metadata": {
        "colab": {
          "base_uri": "https://localhost:8080/"
        },
        "id": "8Eu_Xiqe8DWV",
        "outputId": "da24418b-b496-4ea6-d75d-aac6188e21d6"
      },
      "execution_count": null,
      "outputs": [
        {
          "output_type": "execute_result",
          "data": {
            "text/plain": [
              "False"
            ]
          },
          "metadata": {},
          "execution_count": 5
        }
      ]
    },
    {
      "cell_type": "code",
      "source": [
        "prime_and_odd(45)"
      ],
      "metadata": {
        "colab": {
          "base_uri": "https://localhost:8080/"
        },
        "id": "FAj_NTLO82YK",
        "outputId": "a10dd02b-8c4a-49ce-87f3-e0f36c380638"
      },
      "execution_count": null,
      "outputs": [
        {
          "output_type": "execute_result",
          "data": {
            "text/plain": [
              "False"
            ]
          },
          "metadata": {},
          "execution_count": 6
        }
      ]
    },
    {
      "cell_type": "code",
      "source": [
        "# checking first 10 numbers\n",
        "for i in range(1, 11):\n",
        "    print(i, prime_and_odd(i))"
      ],
      "metadata": {
        "colab": {
          "base_uri": "https://localhost:8080/"
        },
        "id": "D4I5aNaP85RI",
        "outputId": "51a47d58-c6e2-46e8-f51b-56f1a5534f12"
      },
      "execution_count": null,
      "outputs": [
        {
          "output_type": "stream",
          "name": "stdout",
          "text": [
            "1 False\n",
            "2 False\n",
            "3 True\n",
            "4 False\n",
            "5 True\n",
            "6 False\n",
            "7 True\n",
            "8 False\n",
            "9 False\n",
            "10 False\n"
          ]
        }
      ]
    },
    {
      "cell_type": "markdown",
      "source": [
        "### 2. Write a python function which will take n as input and print the pattern of n rows. If the n is even, then print it flipped.\n",
        "\n",
        "Example: n=3\n",
        "        \n",
        "        *\n",
        "        * *\n",
        "        * * *\n",
        "\n",
        "n=4\n",
        "\n",
        "        * * * *\n",
        "        * * *\n",
        "        * *\n",
        "        *"
      ],
      "metadata": {
        "id": "5VDf0umw9PVu"
      }
    },
    {
      "cell_type": "code",
      "source": [
        "# creating function for checking even/ odd\n",
        "def is_even(num):\n",
        "    if num%2 == 0:\n",
        "        return True\n",
        "    else:\n",
        "        return False"
      ],
      "metadata": {
        "id": "iWD0ZKIH9p_M"
      },
      "execution_count": null,
      "outputs": []
    },
    {
      "cell_type": "code",
      "source": [
        "def print_awesome_pattern(n):\n",
        "    if is_even(n):\n",
        "\n",
        "        for i in range(n, 0, -1):\n",
        "            for j in range(i):\n",
        "                print(\"*\", end=\" \")\n",
        "            print()\n",
        "\n",
        "    else:\n",
        "        for i in range(n+1):\n",
        "            for j in range(i):\n",
        "                print(\"*\", end=\" \")\n",
        "            print()\n",
        "            \n"
      ],
      "metadata": {
        "id": "4oCkNONv9JWI"
      },
      "execution_count": null,
      "outputs": []
    },
    {
      "cell_type": "code",
      "source": [
        "print_awesome_pattern(3)"
      ],
      "metadata": {
        "colab": {
          "base_uri": "https://localhost:8080/"
        },
        "id": "Xxep2Sqr-ZN9",
        "outputId": "248e9413-ae97-4f6c-af85-2eaa6e238eca"
      },
      "execution_count": null,
      "outputs": [
        {
          "output_type": "stream",
          "name": "stdout",
          "text": [
            "\n",
            "* \n",
            "* * \n",
            "* * * \n"
          ]
        }
      ]
    },
    {
      "cell_type": "code",
      "source": [
        "print_awesome_pattern(4)"
      ],
      "metadata": {
        "colab": {
          "base_uri": "https://localhost:8080/"
        },
        "id": "x71kA9J0-c9M",
        "outputId": "afefac26-ddd6-4643-f736-3d45526b41c9"
      },
      "execution_count": null,
      "outputs": [
        {
          "output_type": "stream",
          "name": "stdout",
          "text": [
            "* * * * \n",
            "* * * \n",
            "* * \n",
            "* \n"
          ]
        }
      ]
    },
    {
      "cell_type": "code",
      "source": [
        "print_awesome_pattern(7)"
      ],
      "metadata": {
        "colab": {
          "base_uri": "https://localhost:8080/"
        },
        "id": "xWDSA6c1-8yI",
        "outputId": "95d29888-ac07-4af2-ae16-299471c086b0"
      },
      "execution_count": null,
      "outputs": [
        {
          "output_type": "stream",
          "name": "stdout",
          "text": [
            "\n",
            "* \n",
            "* * \n",
            "* * * \n",
            "* * * * \n",
            "* * * * * \n",
            "* * * * * * \n",
            "* * * * * * * \n"
          ]
        }
      ]
    },
    {
      "cell_type": "markdown",
      "source": [
        "### 3. Master Yoda speaks a sentence in a different order. Let's say you want to convert a sentence to Yoda’s speak.  Write a function named master_yoda which will take a string as input and return the output after reversing the words of the sentence."
      ],
      "metadata": {
        "id": "ZgDoTYOU_KgH"
      }
    },
    {
      "cell_type": "code",
      "source": [
        "def master_yoda(sentance):\n",
        "    # creating list of words\n",
        "    words = []\n",
        "    for word in sentance.split(' '):\n",
        "        words.append(word)\n",
        "    \n",
        "    terminator = \"\"\n",
        "    # If the sentance ends with a dot(.) we need to extract that \n",
        "    if words[-1].endswith('.') or words[-1].endswith('?'):\n",
        "        terminator = words[-1][-1]\n",
        "        words[-1] = words[-1][:-1]\n",
        "\n",
        "    # reversing the words\n",
        "    words.reverse()\n",
        "\n",
        "    # recreating the sentance with reversed words\n",
        "    new_sentance = \" \".join(words)\n",
        "    new_sentance = new_sentance + terminator\n",
        "    return new_sentance\n",
        "\n"
      ],
      "metadata": {
        "id": "HI6cazF__E9v"
      },
      "execution_count": null,
      "outputs": []
    },
    {
      "cell_type": "code",
      "source": [
        "master_yoda(\"I am learning Python.\")"
      ],
      "metadata": {
        "colab": {
          "base_uri": "https://localhost:8080/",
          "height": 35
        },
        "id": "RFA-NlGWA3RB",
        "outputId": "2fff35f7-babc-4d4a-96c2-6831887cca92"
      },
      "execution_count": null,
      "outputs": [
        {
          "output_type": "execute_result",
          "data": {
            "application/vnd.google.colaboratory.intrinsic+json": {
              "type": "string"
            },
            "text/plain": [
              "'Python learning am I.'"
            ]
          },
          "metadata": {},
          "execution_count": 36
        }
      ]
    },
    {
      "cell_type": "code",
      "source": [
        "master_yoda(sentance=\"Hello World\")"
      ],
      "metadata": {
        "colab": {
          "base_uri": "https://localhost:8080/",
          "height": 35
        },
        "id": "pdZTe9i9BDr-",
        "outputId": "cd080ba7-9d40-4724-e35f-091f90eef980"
      },
      "execution_count": null,
      "outputs": [
        {
          "output_type": "execute_result",
          "data": {
            "application/vnd.google.colaboratory.intrinsic+json": {
              "type": "string"
            },
            "text/plain": [
              "'World Hello'"
            ]
          },
          "metadata": {},
          "execution_count": 37
        }
      ]
    },
    {
      "cell_type": "markdown",
      "source": [
        "### 4. Write a function pay_bill which will take list of expenses, percent commission, and a special offer amount\n",
        "* If you don’t pass percent_comission it should be always 9.8%\n",
        "* The Last argument special_offer_amount is not a required argument, you don’t need to pass is. Make it an optional parameter.\n",
        "* If you want to give a special offer to the user, then you have to pass the third argument special_offer_amount. If user makes the purchase of greater than special_offer_amount, then give him extra  commission of 1.2%.\n",
        "* Calculate the final payable price of the bill and return it from the function.\n"
      ],
      "metadata": {
        "id": "FTsAnmvuB7FN"
      }
    },
    {
      "cell_type": "code",
      "source": [
        "def pay_bill(expenses, percent_commission=0.098, offer_amount=None):\n",
        "    \n",
        "    # calculating the total bill amount\n",
        "    total_bill_amount = 0\n",
        "    for amount in  expenses:\n",
        "        total_bill_amount += amount\n",
        "\n",
        "    # calculate extra commision percentage\n",
        "    extra_commission = 0\n",
        "    if offer_amount:\n",
        "        if total_bill_amount >= offer_amount:\n",
        "            extra_commission = 0.012\n",
        "            print(f\"Congratulations! You earned 1.2% extra commission.\")\n",
        "\n",
        "    # Calculate final payable amount\n",
        "    commission_amount = total_bill_amount * (percent_commission + extra_commission)\n",
        "    final_amount = total_bill_amount - commission_amount\n",
        "    return final_amount"
      ],
      "metadata": {
        "id": "PLFqktuwB02f"
      },
      "execution_count": null,
      "outputs": []
    },
    {
      "cell_type": "code",
      "source": [
        "pay_bill([100, 145, 567, 322])"
      ],
      "metadata": {
        "colab": {
          "base_uri": "https://localhost:8080/"
        },
        "id": "wRJZbUp7FFP3",
        "outputId": "a09f2207-da32-4a28-8d31-ae3e0e7d21b9"
      },
      "execution_count": null,
      "outputs": [
        {
          "output_type": "execute_result",
          "data": {
            "text/plain": [
              "1022.8679999999999"
            ]
          },
          "metadata": {},
          "execution_count": 52
        }
      ]
    },
    {
      "cell_type": "code",
      "source": [
        "pay_bill([100, 145, 565, 322], 0.078)"
      ],
      "metadata": {
        "colab": {
          "base_uri": "https://localhost:8080/"
        },
        "id": "vlv4i8jjFLoO",
        "outputId": "8207df45-9474-490e-ce2d-f196eac8ca9f"
      },
      "execution_count": null,
      "outputs": [
        {
          "output_type": "execute_result",
          "data": {
            "text/plain": [
              "1043.704"
            ]
          },
          "metadata": {},
          "execution_count": 53
        }
      ]
    },
    {
      "cell_type": "code",
      "source": [
        "pay_bill([200, 400, 86, 300, 500], 0.09, 800)"
      ],
      "metadata": {
        "colab": {
          "base_uri": "https://localhost:8080/"
        },
        "id": "fyHjsChAFwKK",
        "outputId": "07e7ae45-82e4-4e48-fceb-fe53adf75e77"
      },
      "execution_count": null,
      "outputs": [
        {
          "output_type": "stream",
          "name": "stdout",
          "text": [
            "Congratulations! You earned 1.2% extra commission.\n"
          ]
        },
        {
          "output_type": "execute_result",
          "data": {
            "text/plain": [
              "1334.4279999999999"
            ]
          },
          "metadata": {},
          "execution_count": 54
        }
      ]
    },
    {
      "cell_type": "code",
      "source": [
        "pay_bill([200, 400, 86, 300, 500], offer_amount=900)"
      ],
      "metadata": {
        "colab": {
          "base_uri": "https://localhost:8080/"
        },
        "id": "b94QsQIIF9PY",
        "outputId": "54deb754-5d38-45c6-aa7e-171a22a9e50d"
      },
      "execution_count": null,
      "outputs": [
        {
          "output_type": "stream",
          "name": "stdout",
          "text": [
            "Congratulations! You earned 1.2% extra commission.\n"
          ]
        },
        {
          "output_type": "execute_result",
          "data": {
            "text/plain": [
              "1322.54"
            ]
          },
          "metadata": {},
          "execution_count": 55
        }
      ]
    },
    {
      "cell_type": "code",
      "source": [
        "pay_bill([200, 400, 86, 300, 500], percent_commission=0.1, offer_amount=1500)"
      ],
      "metadata": {
        "colab": {
          "base_uri": "https://localhost:8080/"
        },
        "id": "6HnaF2elGE9p",
        "outputId": "8a7b3a25-ceba-41b3-c852-4e50e8673916"
      },
      "execution_count": null,
      "outputs": [
        {
          "output_type": "execute_result",
          "data": {
            "text/plain": [
              "1337.4"
            ]
          },
          "metadata": {},
          "execution_count": 56
        }
      ]
    },
    {
      "cell_type": "code",
      "source": [
        ""
      ],
      "metadata": {
        "id": "pvN2aAzuGsDM"
      },
      "execution_count": null,
      "outputs": []
    },
    {
      "cell_type": "markdown",
      "source": [
        "Thank You,\n",
        "\n",
        "Happy Coding!"
      ],
      "metadata": {
        "id": "YSg0KwBrG2NP"
      }
    },
    {
      "cell_type": "code",
      "source": [
        ""
      ],
      "metadata": {
        "id": "tfoDOAfKG5BK"
      },
      "execution_count": null,
      "outputs": []
    }
  ]
}