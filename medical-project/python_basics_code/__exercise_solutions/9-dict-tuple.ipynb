{
  "nbformat": 4,
  "nbformat_minor": 0,
  "metadata": {
    "colab": {
      "name": "9_dict_tuple.ipynb",
      "provenance": [],
      "collapsed_sections": []
    },
    "kernelspec": {
      "name": "python3",
      "display_name": "Python 3"
    },
    "language_info": {
      "name": "python"
    }
  },
  "cells": [
    {
      "cell_type": "markdown",
      "source": [
        "# 9 Dictionary and Tuples\n",
        "\n",
        "Excercise Solution"
      ],
      "metadata": {
        "id": "-1w8FvciHKAY"
      }
    },
    {
      "cell_type": "markdown",
      "source": [
        "### 1. Create a list of your friend’s name and now create a list of tuples. The tuple should contain the friend’s name and length of the name. For Example: if someone’s name is Aditya, the tuple would be: (‘Aditya’, 6)"
      ],
      "metadata": {
        "id": "XnyBe36CHQlG"
      }
    },
    {
      "cell_type": "code",
      "execution_count": null,
      "metadata": {
        "id": "pT1HPQ__G-fT"
      },
      "outputs": [],
      "source": [
        "def list_of_tuples(friends_list):\n",
        "    new_list = []\n",
        "    for friend in friends_list:\n",
        "        friend_tuple = (friend, len(friend))\n",
        "        new_list.append(friend_tuple)\n",
        "\n",
        "    return new_list"
      ]
    },
    {
      "cell_type": "code",
      "source": [
        "friends = ['Ajay', 'Akash', 'Sanjana', 'Sudhir', 'Vijay Kumar']\n",
        "list_of_tuples(friends)"
      ],
      "metadata": {
        "colab": {
          "base_uri": "https://localhost:8080/"
        },
        "id": "trHDEgOpHzlF",
        "outputId": "ed8d0191-c6d1-46e9-84be-49449fb147ee"
      },
      "execution_count": null,
      "outputs": [
        {
          "output_type": "execute_result",
          "data": {
            "text/plain": [
              "[('Ajay', 4), ('Akash', 5), ('Sanjana', 7), ('Sudhir', 6), ('Vijay Kumar', 11)]"
            ]
          },
          "metadata": {},
          "execution_count": 2
        }
      ]
    },
    {
      "cell_type": "code",
      "source": [
        "list_of_tuples(['Vivek', 'Raj', 'James'])"
      ],
      "metadata": {
        "colab": {
          "base_uri": "https://localhost:8080/"
        },
        "id": "MVPqYMV0ICzZ",
        "outputId": "5ffa210e-0687-4287-d6d7-9e98c68dcbaa"
      },
      "execution_count": null,
      "outputs": [
        {
          "output_type": "execute_result",
          "data": {
            "text/plain": [
              "[('Vivek', 5), ('Raj', 3), ('James', 5)]"
            ]
          },
          "metadata": {},
          "execution_count": 3
        }
      ]
    },
    {
      "cell_type": "markdown",
      "source": [
        "### 2.  You and your wife argued upon expenses last night. You both want to know who is spending more in a month. Now you both go to the Little Yoda he is a good python programmer, he suggested both of you to add an entry in a dictionary when next time you spent money. So that you can have clear picture about your expenses and plan to reduce it. Both dictionaries are as below-\n",
        "Your expenses - \n",
        "\n",
        "* Clothes - 1100\n",
        "* Shoes - 1000\n",
        "* Watch - 900\n",
        "* Mobile Recharge - 699\n",
        "* Petrol - 1980\n",
        "\n",
        "Your Wife’s expenses - \n",
        "* Mobile Recharge - 799\n",
        "* DTH recharge - 999\n",
        "* Clothes - 2310\n",
        "* Makeup - 3670\n",
        "* Shoes - 999\n",
        "\n",
        "A) Find out total expenses of each of you.\\\n",
        "B) Find out who spending more\\\n",
        "C) Find out in which thing you and your wife spending more \n",
        " \n"
      ],
      "metadata": {
        "id": "RlbkDRinIQU6"
      }
    },
    {
      "cell_type": "code",
      "source": [
        "my_expenses = dict()\n",
        "wife_expenses = dict()"
      ],
      "metadata": {
        "id": "vcVe-c1IIOhL"
      },
      "execution_count": null,
      "outputs": []
    },
    {
      "cell_type": "code",
      "source": [
        "# adding data to the dictionaries\n",
        "my_expenses['Clothes'] = 100\n",
        "my_expenses['Shoes'] = 1000\n",
        "my_expenses['Watch'] = 900\n",
        "my_expenses['Mobile Recharge'] = 699\n",
        "my_expenses['Petrol'] = 1980"
      ],
      "metadata": {
        "id": "qMu3eR8yIw2K"
      },
      "execution_count": null,
      "outputs": []
    },
    {
      "cell_type": "code",
      "source": [
        "wife_expenses.update({\n",
        "    \"Mobile Recharge\" : 799,\n",
        "    \"DTH recharge\" : 999,\n",
        "    \"Clothes\" : 2310,\n",
        "    \"Makeup\" : 3670,\n",
        "    \"Shoes\" : 999\n",
        "})"
      ],
      "metadata": {
        "id": "HRDPfuOsJXFX"
      },
      "execution_count": null,
      "outputs": []
    },
    {
      "cell_type": "code",
      "source": [
        "my_expenses"
      ],
      "metadata": {
        "colab": {
          "base_uri": "https://localhost:8080/"
        },
        "id": "XBSdggK_Jz2n",
        "outputId": "a07acb24-0763-4937-a3dd-b4324bded9cd"
      },
      "execution_count": null,
      "outputs": [
        {
          "output_type": "execute_result",
          "data": {
            "text/plain": [
              "{'Clothes': 100,\n",
              " 'Mobile Recharge': 699,\n",
              " 'Petrol': 1980,\n",
              " 'Shoes': 1000,\n",
              " 'Watch': 900}"
            ]
          },
          "metadata": {},
          "execution_count": 8
        }
      ]
    },
    {
      "cell_type": "code",
      "source": [
        "wife_expenses"
      ],
      "metadata": {
        "colab": {
          "base_uri": "https://localhost:8080/"
        },
        "id": "S4qVsUZuJ1rX",
        "outputId": "5e17a7e6-a39b-4041-a2d9-2e635692a4e5"
      },
      "execution_count": null,
      "outputs": [
        {
          "output_type": "execute_result",
          "data": {
            "text/plain": [
              "{'Clothes': 2310,\n",
              " 'DTH recharge': 999,\n",
              " 'Makeup': 3670,\n",
              " 'Mobile Recharge': 799,\n",
              " 'Shoes': 999}"
            ]
          },
          "metadata": {},
          "execution_count": 9
        }
      ]
    },
    {
      "cell_type": "code",
      "source": [
        "# little Yoda's Analysis\n",
        "\n",
        "# finding total expenses\n",
        "total = 0\n",
        "for key in my_expenses:\n",
        "    total += my_expenses[key]\n",
        "\n",
        "my_expenses['Total'] = total"
      ],
      "metadata": {
        "id": "TdWWYlcjJ3no"
      },
      "execution_count": null,
      "outputs": []
    },
    {
      "cell_type": "code",
      "source": [
        "total = 0\n",
        "for key in wife_expenses:\n",
        "    total += wife_expenses[key]\n",
        "\n",
        "wife_expenses['Total'] = total"
      ],
      "metadata": {
        "id": "wTF853upKghJ"
      },
      "execution_count": null,
      "outputs": []
    },
    {
      "cell_type": "code",
      "source": [
        "print(f\"Your Total Expenses are: {my_expenses['Total']}\")"
      ],
      "metadata": {
        "colab": {
          "base_uri": "https://localhost:8080/"
        },
        "id": "5pVc5nOYKwCx",
        "outputId": "b9145def-5469-4895-b946-ee3a5bdcafa8"
      },
      "execution_count": null,
      "outputs": [
        {
          "output_type": "stream",
          "name": "stdout",
          "text": [
            "Your Total Expenses are: 4679\n"
          ]
        }
      ]
    },
    {
      "cell_type": "code",
      "source": [
        "print(f\"Your Wife's Total Expenses are: {wife_expenses['Total']}\")\n"
      ],
      "metadata": {
        "colab": {
          "base_uri": "https://localhost:8080/"
        },
        "id": "n0yHyujDK5QS",
        "outputId": "8ded0c29-671d-493d-90b3-29ddf3065bfb"
      },
      "execution_count": null,
      "outputs": [
        {
          "output_type": "stream",
          "name": "stdout",
          "text": [
            "Your Wife's Total Expenses are: 8777\n"
          ]
        }
      ]
    },
    {
      "cell_type": "code",
      "source": [
        "total = my_expenses['Total'] + wife_expenses['Total']\n",
        "print(f\"Both's Total Expenses are: {total}\")\n"
      ],
      "metadata": {
        "colab": {
          "base_uri": "https://localhost:8080/"
        },
        "id": "MPbXqz5rLEze",
        "outputId": "6c199c51-ee2d-4631-8cd1-150e3365cf99"
      },
      "execution_count": null,
      "outputs": [
        {
          "output_type": "stream",
          "name": "stdout",
          "text": [
            "Both's Total Expenses are: 13456\n"
          ]
        }
      ]
    },
    {
      "cell_type": "code",
      "source": [
        "# B. Finding who spend more\n",
        "if my_expenses['Total'] > wife_expenses['Total']:\n",
        "    print(\"You spent more than your wife.\")\n",
        "else:\n",
        "    print(\"Your wife spent more than you\")"
      ],
      "metadata": {
        "colab": {
          "base_uri": "https://localhost:8080/"
        },
        "id": "O30OV9ffLXCK",
        "outputId": "2aba74a7-aa64-4fed-80d3-976e67b076ab"
      },
      "execution_count": null,
      "outputs": [
        {
          "output_type": "stream",
          "name": "stdout",
          "text": [
            "Your wife spent more than you\n"
          ]
        }
      ]
    },
    {
      "cell_type": "code",
      "source": [
        "# c. finding expensive thing\n",
        "# If we can sort the dictionary in increasing order or decreasing order\n",
        "# we can find it easily\n",
        "\n",
        "def sort_the_dict(dictionary):\n",
        "    # because we need to sord the dictionary according to the values\n",
        "    sorted_dict = sorted(dictionary.items(), key=lambda kv:kv[1])\n",
        "    \n",
        "    return sorted_dict                                            "
      ],
      "metadata": {
        "id": "EhA2SWNaL0o3"
      },
      "execution_count": null,
      "outputs": []
    },
    {
      "cell_type": "code",
      "source": [
        "sort_the_dict(my_expenses)"
      ],
      "metadata": {
        "colab": {
          "base_uri": "https://localhost:8080/"
        },
        "id": "8nTCw24rNXBF",
        "outputId": "d395219a-5ca1-4caf-9d81-90a482fae423"
      },
      "execution_count": null,
      "outputs": [
        {
          "output_type": "execute_result",
          "data": {
            "text/plain": [
              "[('Clothes', 100),\n",
              " ('Mobile Recharge', 699),\n",
              " ('Watch', 900),\n",
              " ('Shoes', 1000),\n",
              " ('Petrol', 1980),\n",
              " ('Total', 4679)]"
            ]
          },
          "metadata": {},
          "execution_count": 39
        }
      ]
    },
    {
      "cell_type": "code",
      "source": [
        "sort_the_dict(wife_expenses)"
      ],
      "metadata": {
        "colab": {
          "base_uri": "https://localhost:8080/"
        },
        "id": "8iIoGhe2NdLw",
        "outputId": "1250ab6d-44b2-4043-ca8b-872101de3145"
      },
      "execution_count": null,
      "outputs": [
        {
          "output_type": "execute_result",
          "data": {
            "text/plain": [
              "[('Mobile Recharge', 799),\n",
              " ('DTH recharge', 999),\n",
              " ('Shoes', 999),\n",
              " ('Clothes', 2310),\n",
              " ('Makeup', 3670),\n",
              " ('Total', 8777)]"
            ]
          },
          "metadata": {},
          "execution_count": 40
        }
      ]
    },
    {
      "cell_type": "markdown",
      "source": [
        "Because last element will always be the total so we have to print the second last element"
      ],
      "metadata": {
        "id": "Vho7lCErPYss"
      }
    },
    {
      "cell_type": "code",
      "source": [
        "print(\"You spent more on: \")\n",
        "sort_the_dict(my_expenses)[-2]"
      ],
      "metadata": {
        "colab": {
          "base_uri": "https://localhost:8080/"
        },
        "id": "dVHBwFwqOCqN",
        "outputId": "f9769bfa-b0dc-49ee-cbaf-7ee98ce22c2e"
      },
      "execution_count": null,
      "outputs": [
        {
          "output_type": "stream",
          "name": "stdout",
          "text": [
            "You spent more on: \n"
          ]
        },
        {
          "output_type": "execute_result",
          "data": {
            "text/plain": [
              "('Petrol', 1980)"
            ]
          },
          "metadata": {},
          "execution_count": 41
        }
      ]
    },
    {
      "cell_type": "code",
      "source": [
        "print(\"Your wife spent more on: \")\n",
        "sort_the_dict(wife_expenses)[-2]"
      ],
      "metadata": {
        "colab": {
          "base_uri": "https://localhost:8080/"
        },
        "id": "bq7c3OAHPF1j",
        "outputId": "66d68460-dbd3-4a79-cf1a-945cd47bee69"
      },
      "execution_count": null,
      "outputs": [
        {
          "output_type": "stream",
          "name": "stdout",
          "text": [
            "Your wife spent more on: \n"
          ]
        },
        {
          "output_type": "execute_result",
          "data": {
            "text/plain": [
              "('Makeup', 3670)"
            ]
          },
          "metadata": {},
          "execution_count": 42
        }
      ]
    },
    {
      "cell_type": "markdown",
      "source": [
        "#### Little Yoda's Words:\n",
        "\n",
        "Looks like you love **travelling** and your wife loves **Make-up**. Because Both of you are spending more on *Petrol* and *Make Up*\n",
        "\n",
        "You need to do less spending in these two"
      ],
      "metadata": {
        "id": "Nmy47co1P7w_"
      }
    },
    {
      "cell_type": "code",
      "source": [
        ""
      ],
      "metadata": {
        "id": "QRn5YOKUP5-p"
      },
      "execution_count": null,
      "outputs": []
    },
    {
      "cell_type": "markdown",
      "source": [
        "Thank You,\n",
        "\n",
        "Happy Coding!"
      ],
      "metadata": {
        "id": "R9mNy_U_QkGP"
      }
    },
    {
      "cell_type": "code",
      "source": [
        ""
      ],
      "metadata": {
        "id": "0EIRlB_AQoIV"
      },
      "execution_count": null,
      "outputs": []
    }
  ]
}